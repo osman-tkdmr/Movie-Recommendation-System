{
 "cells": [
  {
   "cell_type": "markdown",
   "metadata": {},
   "source": [
    "# BERT Tabanlı Modellerin Performans Analizi\n",
    "\n",
    "Bu notebook'ta farklı BERT tabanlı modellerin (BERT-Base BERT-Large DistilBERT RoBERTa ALBERT) duygu analizi görevindeki performanslarını karşılaştıracağız.\n",
    "\n",
    "## Amaç\n",
    "- Farklı BERT modellerinin aynı veri kümesi üzerindeki performansını ölçmek\n",
    "- Büyük modeller (BERT-Large) ile küçük modeller (BERT-Base DistilBERT) arasındaki performans farklarını incelemek\n",
    "- Model boyutu eğitim süresi ve performans arasındaki ilişkiyi analiz etmek"
   ]
  },
  {
   "cell_type": "code",
   "execution_count": 1,
   "metadata": {},
   "outputs": [
    {
     "name": "stderr",
     "output_type": "stream",
     "text": [
      "c:\\Users\\osman\\OneDrive - Harran Üniversitesi\\Belgeler\\Movie-Recommendation-System\\venv\\Lib\\site-packages\\tqdm\\auto.py:21: TqdmWarning: IProgress not found. Please update jupyter and ipywidgets. See https://ipywidgets.readthedocs.io/en/stable/user_install.html\n",
      "  from .autonotebook import tqdm as notebook_tqdm\n"
     ]
    }
   ],
   "source": [
    "import torch\n",
    "import numpy as np\n",
    "import pandas as pd\n",
    "import time\n",
    "import matplotlib.pyplot as plt\n",
    "import seaborn as sns\n",
    "from sklearn.model_selection import train_test_split\n",
    "from sklearn.metrics import accuracy_score, precision_recall_fscore_support, confusion_matrix\n",
    "from transformers import (\n",
    "    BertTokenizerFast, BertForSequenceClassification,\n",
    "    RobertaTokenizerFast, RobertaForSequenceClassification,\n",
    "    AlbertTokenizerFast, AlbertForSequenceClassification,\n",
    "    DistilBertTokenizerFast, DistilBertForSequenceClassification,\n",
    "    Trainer, TrainingArguments\n",
    ")"
   ]
  },
  {
   "cell_type": "markdown",
   "metadata": {},
   "source": [
    "## 1. Veri Yükleme ve Ön İşleme"
   ]
  },
  {
   "cell_type": "code",
   "execution_count": null,
   "metadata": {},
   "outputs": [],
   "source": [
    "# Veri setini yükle\\n,\n",
    "train = pd.read_csv('train.tsv', sep='\\t')\n",
    "test = pd.read_csv('test.tsv', sep='\\t')"
   ]
  },
  {
   "cell_type": "code",
   "execution_count": 16,
   "metadata": {},
   "outputs": [
    {
     "data": {
      "text/html": [
       "<div>\n",
       "<style scoped>\n",
       "    .dataframe tbody tr th:only-of-type {\n",
       "        vertical-align: middle;\n",
       "    }\n",
       "\n",
       "    .dataframe tbody tr th {\n",
       "        vertical-align: top;\n",
       "    }\n",
       "\n",
       "    .dataframe thead th {\n",
       "        text-align: right;\n",
       "    }\n",
       "</style>\n",
       "<table border=\"1\" class=\"dataframe\">\n",
       "  <thead>\n",
       "    <tr style=\"text-align: right;\">\n",
       "      <th></th>\n",
       "      <th>PhraseId</th>\n",
       "      <th>SentenceId</th>\n",
       "      <th>Phrase</th>\n",
       "      <th>Sentiment</th>\n",
       "    </tr>\n",
       "  </thead>\n",
       "  <tbody>\n",
       "    <tr>\n",
       "      <th>0</th>\n",
       "      <td>1</td>\n",
       "      <td>1</td>\n",
       "      <td>A series of escapades demonstrating the adage ...</td>\n",
       "      <td>1</td>\n",
       "    </tr>\n",
       "    <tr>\n",
       "      <th>1</th>\n",
       "      <td>2</td>\n",
       "      <td>1</td>\n",
       "      <td>A series of escapades demonstrating the adage ...</td>\n",
       "      <td>2</td>\n",
       "    </tr>\n",
       "    <tr>\n",
       "      <th>2</th>\n",
       "      <td>3</td>\n",
       "      <td>1</td>\n",
       "      <td>A series</td>\n",
       "      <td>2</td>\n",
       "    </tr>\n",
       "    <tr>\n",
       "      <th>3</th>\n",
       "      <td>4</td>\n",
       "      <td>1</td>\n",
       "      <td>A</td>\n",
       "      <td>2</td>\n",
       "    </tr>\n",
       "    <tr>\n",
       "      <th>4</th>\n",
       "      <td>5</td>\n",
       "      <td>1</td>\n",
       "      <td>series</td>\n",
       "      <td>2</td>\n",
       "    </tr>\n",
       "  </tbody>\n",
       "</table>\n",
       "</div>"
      ],
      "text/plain": [
       "   PhraseId  SentenceId                                             Phrase  \\\n",
       "0         1           1  A series of escapades demonstrating the adage ...   \n",
       "1         2           1  A series of escapades demonstrating the adage ...   \n",
       "2         3           1                                           A series   \n",
       "3         4           1                                                  A   \n",
       "4         5           1                                             series   \n",
       "\n",
       "   Sentiment  \n",
       "0          1  \n",
       "1          2  \n",
       "2          2  \n",
       "3          2  \n",
       "4          2  "
      ]
     },
     "execution_count": 16,
     "metadata": {},
     "output_type": "execute_result"
    }
   ],
   "source": [
    "# Veri setini incele\n",
    "train.head()"
   ]
  },
  {
   "cell_type": "code",
   "execution_count": 17,
   "metadata": {},
   "outputs": [
    {
     "name": "stdout",
     "output_type": "stream",
     "text": [
      "Eğitim seti boyutu: (156060, 4)\n",
      "Test seti boyutu: (66292, 3)\n"
     ]
    }
   ],
   "source": [
    "print(f\"Eğitim seti boyutu: {train.shape}\")\n",
    "print(f\"Test seti boyutu: {test.shape}\")"
   ]
  },
  {
   "cell_type": "code",
   "execution_count": 18,
   "metadata": {},
   "outputs": [
    {
     "data": {
      "image/png": "[encoded data removed]",
      "text/plain": [
       "<Figure size 1000x600 with 1 Axes>"
      ]
     },
     "metadata": {},
     "output_type": "display_data"
    }
   ],
   "source": [
    "plt.figure(figsize=(10, 6))\n",
    "sns.countplot(x='Sentiment', data=train)\n",
    "plt.title('Eğitim Setindeki Sınıf Dağılımı')\n",
    "plt.xlabel('Duygu Sınıfı')\n",
    "plt.ylabel('Örnek Sayısı')\n",
    "plt.show()"
   ]
  },
  {
   "cell_type": "code",
   "execution_count": 19,
   "metadata": {},
   "outputs": [],
   "source": [
    "# Tekrarlanan cümleleri kaldır\n",
    "train = train.drop_duplicates(subset=['SentenceId'], keep='first').reset_index(drop=True)\n",
    "test = test.drop_duplicates(subset=['SentenceId'], keep='first').reset_index(drop=True)"
   ]
  },
  {
   "cell_type": "code",
   "execution_count": 20,
   "metadata": {},
   "outputs": [
    {
     "name": "stdout",
     "output_type": "stream",
     "text": [
      "Eğitim seti boyutu: (8529, 4)\n",
      "Test seti boyutu: (3310, 3)\n"
     ]
    }
   ],
   "source": [
    "# Veri setinin boyutunu kontrol et\n",
    "print(f\"Eğitim seti boyutu: {train.shape}\")\n",
    "print(f\"Test seti boyutu: {test.shape}\")"
   ]
  },
  {
   "cell_type": "code",
   "execution_count": 21,
   "metadata": {},
   "outputs": [
    {
     "data": {
      "image/png": "[encoded data removed]",
      "text/plain": [
       "<Figure size 1000x600 with 1 Axes>"
      ]
     },
     "metadata": {},
     "output_type": "display_data"
    }
   ],
   "source": [
    "# Sınıf dağılımını kontrol et\n",
    "plt.figure(figsize=(10, 6))\n",
    "sns.countplot(x='Sentiment', data=train)\n",
    "plt.title('Eğitim Setindeki Sınıf Dağılımı')\n",
    "plt.xlabel('Duygu Sınıfı')\n",
    "plt.ylabel('Örnek Sayısı')\n",
    "plt.show()"
   ]
  },
  {
   "cell_type": "markdown",
   "metadata": {},
   "source": [
    "- 0 - negative\n",
    "- 1 - somewhat negative\n",
    "- 2 - neutral\n",
    "- 3 - somewhat positive\n",
    "- 4 - positive"
   ]
  },
  {
   "cell_type": "markdown",
   "metadata": {},
   "source": [
    "## 2. Yardımcı Fonksiyonlar"
   ]
  },
  {
   "cell_type": "code",
   "execution_count": null,
   "metadata": {},
   "outputs": [],
   "source": [
    "# Performans metriklerini hesaplayan fonksiyon,\n",
    "def compute_metrics(pred):\n",
    "    preds = pred.predictions.argmax(-1)\n",
    "    labels = pred.label_ids\n",
    "    precision, recall, f1, _ = precision_recall_fscore_support(labels, preds, average='weighted')\n",
    "    acc = accuracy_score(labels, preds)\n",
    "    return {\n",
    "        'accuracy': acc, \n",
    "        'f1': f1,\n",
    "        'precision': precision,\n",
    "        'recall': recall\n",
    "    }"
   ]
  },
  {
   "cell_type": "code",
   "execution_count": null,
   "metadata": {},
   "outputs": [],
   "source": [
    "# Veri kümesini hazırlayan fonksiyon\n",
    "def prepare_dataset(df):\n",
    "    # Eğitim ve doğrulama setlerini ayır\n",
    "    train_texts, val_texts, train_labels, val_labels = train_test_split(\n",
    "        df['Phrase'].tolist(),\n",
    "        df['Sentiment'].tolist(),\n",
    "        test_size=0.2,\n",
    "        random_state=42,\n",
    "        stratify=df['Sentiment'] # Dengesizliği korumak için stratify parametresi kullanılır\n",
    "    )\n",
    "    return train_texts, val_texts, train_labels, val_labels"
   ]
  },
  {
   "cell_type": "code",
   "execution_count": 10,
   "metadata": {},
   "outputs": [],
   "source": [
    "# Torch Dataset sınıfı\n",
    "class SentimentDataset(torch.utils.data.Dataset):\n",
    "    def __init__(self, encodings, labels):\n",
    "        self.encodings = encodings\n",
    "        self.labels = labels\n",
    "\n",
    "    def __getitem__(self, idx):\n",
    "        item = {key: torch.tensor(val[idx]) for key, val in self.encodings.items()}\n",
    "        item['labels'] = torch.tensor(self.labels[idx], dtype=torch.long)\n",
    "        return item\n",
    "\n",
    "    def __len__(self):\n",
    "        return len(self.labels)"
   ]
  },
  {
   "cell_type": "code",
   "execution_count": 11,
   "metadata": {},
   "outputs": [],
   "source": [
    "import os\n",
    "import time\n",
    "import uuid\n",
    "import torch\n",
    "\n",
    "# Model eğitim fonksiyonu\n",
    "def train_model(model_name, tokenizer, model, train_texts, val_texts, train_labels, val_labels, epochs=3, batch_size=16):\n",
    "    # CUDA kullanılabilirliğini kontrol et\n",
    "    device = torch.device(\"cuda\" if torch.cuda.is_available() else \"cpu\")\n",
    "    print(f\"Using device: {device}\")\n",
    "    \n",
    "    # Modeli cihaza taşı\n",
    "    model = model.to(device)\n",
    "    \n",
    "    # Create unique log directory to avoid conflicts\n",
    "    unique_id = str(uuid.uuid4())[:8]\n",
    "    log_dir = f\"./logs/{model_name}_{unique_id}\"\n",
    "    output_dir = f\"./results/{model_name}_{unique_id}\"\n",
    "    \n",
    "    # Create fresh directories\n",
    "    os.makedirs(log_dir, exist_ok=True)\n",
    "    os.makedirs(output_dir, exist_ok=True)\n",
    "    \n",
    "    # Metinleri tokenize et\n",
    "    train_encodings = tokenizer(\n",
    "        train_texts,\n",
    "        truncation=True,\n",
    "        padding=True,\n",
    "        max_length=128\n",
    "    )\n",
    "    \n",
    "    val_encodings = tokenizer(\n",
    "        val_texts,\n",
    "        truncation=True,\n",
    "        padding=True,\n",
    "        max_length=128\n",
    "    )\n",
    "    \n",
    "    # Dataset oluştur\n",
    "    train_dataset = SentimentDataset(train_encodings, train_labels)\n",
    "    val_dataset = SentimentDataset(val_encodings, val_labels)\n",
    "    \n",
    "    # Eğitim argümanları\n",
    "    training_args = TrainingArguments(\n",
    "        output_dir=output_dir,\n",
    "        num_train_epochs=epochs,\n",
    "        per_device_train_batch_size=batch_size,\n",
    "        per_device_eval_batch_size=batch_size*4,\n",
    "        warmup_steps=500,\n",
    "        weight_decay=0.01,\n",
    "        logging_dir=log_dir,\n",
    "        logging_steps=50,\n",
    "        evaluation_strategy='epoch',\n",
    "        save_strategy='epoch',\n",
    "        load_best_model_at_end=True,\n",
    "        metric_for_best_model='f1',\n",
    "        # CUDA ayarları\n",
    "        no_cuda=not torch.cuda.is_available(),  # CUDA yoksa CPU kullan\n",
    "        fp16=torch.cuda.is_available(),  # CUDA varsa fp16 hızlandırma kullan\n",
    "        # Disable TensorBoard to avoid directory issues\n",
    "        report_to=[]  # This disables TensorBoard and other reporting\n",
    "    )\n",
    "    \n",
    "    # Trainer oluştur\n",
    "    trainer = Trainer(\n",
    "        model=model,\n",
    "        args=training_args,\n",
    "        train_dataset=train_dataset,\n",
    "        eval_dataset=val_dataset,\n",
    "        compute_metrics=compute_metrics\n",
    "    )\n",
    "    \n",
    "    # Eğitim süresini ölç\n",
    "    start_time = time.time()\n",
    "    \n",
    "    # Modeli eğit\n",
    "    trainer.train()\n",
    "    \n",
    "    # Eğitim süresini hesapla\n",
    "    training_time = time.time() - start_time\n",
    "    \n",
    "    # Modeli değerlendir\n",
    "    eval_results = trainer.evaluate()\n",
    "    \n",
    "    # GPU belleğini temizle\n",
    "    if torch.cuda.is_available():\n",
    "        torch.cuda.empty_cache()\n",
    "    \n",
    "    # Sonuçları döndür\n",
    "    return {\n",
    "        'model_name': model_name,\n",
    "        'training_time': training_time,\n",
    "        'eval_results': eval_results,\n",
    "        'model': model,\n",
    "        'tokenizer': tokenizer\n",
    "    }"
   ]
  },
  {
   "cell_type": "markdown",
   "metadata": {},
   "source": [
    "## 3. Veri Hazırlama"
   ]
  },
  {
   "cell_type": "code",
   "execution_count": 12,
   "metadata": {},
   "outputs": [],
   "source": [
    "# Veri kümesini hazırla\n",
    "df = train.copy()\n",
    "train_texts, val_texts, train_labels, val_labels = prepare_dataset(df)"
   ]
  },
  {
   "cell_type": "markdown",
   "metadata": {},
   "source": [
    "## 4. Model Tanımlamaları"
   ]
  },
  {
   "cell_type": "code",
   "execution_count": 13,
   "metadata": {},
   "outputs": [
    {
     "name": "stderr",
     "output_type": "stream",
     "text": [
      "c:\\Users\\osman\\OneDrive - Harran Üniversitesi\\Belgeler\\Movie-Recommendation-System\\venv\\Lib\\site-packages\\huggingface_hub\\file_download.py:896: FutureWarning: `resume_download` is deprecated and will be removed in version 1.0.0. Downloads always resume when possible. If you want to force a new download, use `force_download=True`.\n",
      "  warnings.warn(\n",
      "Some weights of BertForSequenceClassification were not initialized from the model checkpoint at bert-base-uncased and are newly initialized: ['classifier.bias', 'classifier.weight']\n",
      "You should probably TRAIN this model on a down-stream task to be able to use it for predictions and inference.\n",
      "Some weights of BertForSequenceClassification were not initialized from the model checkpoint at bert-large-uncased and are newly initialized: ['classifier.bias', 'classifier.weight']\n",
      "You should probably TRAIN this model on a down-stream task to be able to use it for predictions and inference.\n",
      "Some weights of DistilBertForSequenceClassification were not initialized from the model checkpoint at distilbert-base-uncased and are newly initialized: ['classifier.bias', 'classifier.weight', 'pre_classifier.bias', 'pre_classifier.weight']\n",
      "You should probably TRAIN this model on a down-stream task to be able to use it for predictions and inference.\n",
      "Some weights of RobertaForSequenceClassification were not initialized from the model checkpoint at roberta-base and are newly initialized: ['classifier.dense.bias', 'classifier.dense.weight', 'classifier.out_proj.bias', 'classifier.out_proj.weight']\n",
      "You should probably TRAIN this model on a down-stream task to be able to use it for predictions and inference.\n",
      "Some weights of AlbertForSequenceClassification were not initialized from the model checkpoint at albert-base-v2 and are newly initialized: ['classifier.bias', 'classifier.weight']\n",
      "You should probably TRAIN this model on a down-stream task to be able to use it for predictions and inference.\n"
     ]
    }
   ],
   "source": [
    "# Model ve tokenizer tanımlamaları\n",
    "models = [\n",
    "{\n",
    "    'name': 'bert-base-uncased',\n",
    "    'tokenizer': BertTokenizerFast.from_pretrained('bert-base-uncased'),\n",
    "    'model': BertForSequenceClassification.from_pretrained('bert-base-uncased', num_labels=5)\n",
    "},\n",
    "{\n",
    "    'name': 'bert-large-uncased',\n",
    "    'tokenizer': BertTokenizerFast.from_pretrained('bert-large-uncased'),\n",
    "    'model': BertForSequenceClassification.from_pretrained('bert-large-uncased', num_labels=5)\n",
    "},\n",
    "{\n",
    "    'name': 'distilbert-base-uncased',\n",
    "    'tokenizer': DistilBertTokenizerFast.from_pretrained('distilbert-base-uncased'),\n",
    "    'model': DistilBertForSequenceClassification.from_pretrained('distilbert-base-uncased', num_labels=5)\n",
    "},\n",
    "{\n",
    "    'name': 'roberta-base',\n",
    "    'tokenizer': RobertaTokenizerFast.from_pretrained('roberta-base'),\n",
    "    'model': RobertaForSequenceClassification.from_pretrained('roberta-base', num_labels=5)\n",
    "},\n",
    "{\n",
    "    'name': 'albert-base-v2',\n",
    "    'tokenizer': AlbertTokenizerFast.from_pretrained('albert-base-v2'),\n",
    "    'model': AlbertForSequenceClassification.from_pretrained('albert-base-v2', num_labels=5)\n",
    "}\n",
    "]"
   ]
  },
  {
   "cell_type": "markdown",
   "metadata": {},
   "source": [
    "## 5. Model Eğitimi ve Değerlendirme"
   ]
  },
  {
   "cell_type": "code",
   "execution_count": null,
   "metadata": {},
   "outputs": [
    {
     "name": "stdout",
     "output_type": "stream",
     "text": [
      "Warning: Could not remove logs directory: [WinError 5] Erişim engellendi: './logs\\\\bert-base-uncased_a024c242'\n",
      "Created fresh directories\n",
      "\n",
      "--------------------------------------------------\n",
      "Eğitiliyor: bert-base-uncased\n",
      "--------------------------------------------------\n",
      "Created unique directories for bert-base-uncased\n",
      "Using device: cuda\n"
     ]
    },
    {
     "name": "stderr",
     "output_type": "stream",
     "text": [
      "  8%|▊         | 51/642 [00:12<02:15,  4.36it/s]"
     ]
    },
    {
     "name": "stdout",
     "output_type": "stream",
     "text": [
      "{'loss': 1.6352, 'grad_norm': 2.1488404273986816, 'learning_rate': 5e-06, 'epoch': 0.23}\n"
     ]
    },
    {
     "name": "stderr",
     "output_type": "stream",
     "text": [
      " 16%|█▌        | 101/642 [00:24<02:04,  4.36it/s]"
     ]
    },
    {
     "name": "stdout",
     "output_type": "stream",
     "text": [
      "{'loss': 1.5008, 'grad_norm': 7.014379501342773, 'learning_rate': 9.900000000000002e-06, 'epoch': 0.47}\n"
     ]
    },
    {
     "name": "stderr",
     "output_type": "stream",
     "text": [
      " 23%|██▎       | 150/642 [00:36<01:56,  4.22it/s]"
     ]
    },
    {
     "name": "stdout",
     "output_type": "stream",
     "text": [
      "{'loss': 1.3049, 'grad_norm': 4.012608051300049, 'learning_rate': 1.48e-05, 'epoch': 0.7}\n"
     ]
    },
    {
     "name": "stderr",
     "output_type": "stream",
     "text": [
      " 31%|███▏      | 201/642 [00:48<01:47,  4.11it/s]"
     ]
    },
    {
     "name": "stdout",
     "output_type": "stream",
     "text": [
      "{'loss': 1.2366, 'grad_norm': 5.524808883666992, 'learning_rate': 1.9800000000000004e-05, 'epoch': 0.93}\n"
     ]
    },
    {
     "name": "stderr",
     "output_type": "stream",
     "text": [
      "                                                 \n",
      " 33%|███▎      | 214/642 [00:55<01:38,  4.35it/s]"
     ]
    },
    {
     "name": "stdout",
     "output_type": "stream",
     "text": [
      "{'eval_loss': 1.248148798942566, 'eval_accuracy': 0.458968347010551, 'eval_f1': 0.3819456414102856, 'eval_precision': 0.407211876490277, 'eval_recall': 0.458968347010551, 'eval_runtime': 3.3129, 'eval_samples_per_second': 514.955, 'eval_steps_per_second': 4.226, 'epoch': 1.0}\n"
     ]
    },
    {
     "name": "stderr",
     "output_type": "stream",
     "text": [
      " 39%|███▉      | 250/642 [01:09<02:00,  3.25it/s]"
     ]
    },
    {
     "name": "stdout",
     "output_type": "stream",
     "text": [
      "{'loss': 1.1643, 'grad_norm': 5.329949378967285, 'learning_rate': 2.48e-05, 'epoch': 1.17}\n"
     ]
    },
    {
     "name": "stderr",
     "output_type": "stream",
     "text": [
      " 47%|████▋     | 301/642 [01:22<01:25,  3.99it/s]"
     ]
    },
    {
     "name": "stdout",
     "output_type": "stream",
     "text": [
      "{'loss': 1.1148, 'grad_norm': 9.388311386108398, 'learning_rate': 2.98e-05, 'epoch': 1.4}\n"
     ]
    },
    {
     "name": "stderr",
     "output_type": "stream",
     "text": [
      " 55%|█████▍    | 350/642 [01:35<01:14,  3.90it/s]"
     ]
    },
    {
     "name": "stdout",
     "output_type": "stream",
     "text": [
      "{'loss': 1.1226, 'grad_norm': 7.3920063972473145, 'learning_rate': 3.48e-05, 'epoch': 1.64}\n"
     ]
    },
    {
     "name": "stderr",
     "output_type": "stream",
     "text": [
      " 62%|██████▏   | 401/642 [01:48<01:00,  3.98it/s]"
     ]
    },
    {
     "name": "stdout",
     "output_type": "stream",
     "text": [
      "{'loss': 1.1173, 'grad_norm': 7.665891170501709, 'learning_rate': 3.9800000000000005e-05, 'epoch': 1.87}\n"
     ]
    },
    {
     "name": "stderr",
     "output_type": "stream",
     "text": [
      "                                                 \n",
      " 67%|██████▋   | 428/642 [01:58<00:45,  4.67it/s]"
     ]
    },
    {
     "name": "stdout",
     "output_type": "stream",
     "text": [
      "{'eval_loss': 1.1321507692337036, 'eval_accuracy': 0.5146541617819461, 'eval_f1': 0.49653586407814926, 'eval_precision': 0.5237502430024972, 'eval_recall': 0.5146541617819461, 'eval_runtime': 3.4626, 'eval_samples_per_second': 492.687, 'eval_steps_per_second': 4.043, 'epoch': 2.0}\n"
     ]
    },
    {
     "name": "stderr",
     "output_type": "stream",
     "text": [
      " 70%|███████   | 450/642 [02:08<00:51,  3.71it/s]"
     ]
    },
    {
     "name": "stdout",
     "output_type": "stream",
     "text": [
      "{'loss': 1.01, 'grad_norm': 7.4257917404174805, 'learning_rate': 4.4800000000000005e-05, 'epoch': 2.1}\n"
     ]
    },
    {
     "name": "stderr",
     "output_type": "stream",
     "text": [
      " 78%|███████▊  | 500/642 [02:21<00:37,  3.80it/s]"
     ]
    },
    {
     "name": "stdout",
     "output_type": "stream",
     "text": [
      "{'loss': 0.9053, 'grad_norm': 5.684680461883545, 'learning_rate': 4.9800000000000004e-05, 'epoch': 2.34}\n"
     ]
    },
    {
     "name": "stderr",
     "output_type": "stream",
     "text": [
      " 86%|████████▌ | 550/642 [02:34<00:23,  3.88it/s]"
     ]
    },
    {
     "name": "stdout",
     "output_type": "stream",
     "text": [
      "{'loss': 0.8725, 'grad_norm': 9.505143165588379, 'learning_rate': 3.3098591549295775e-05, 'epoch': 2.57}\n"
     ]
    },
    {
     "name": "stderr",
     "output_type": "stream",
     "text": [
      " 94%|█████████▎| 601/642 [02:48<00:10,  3.92it/s]"
     ]
    },
    {
     "name": "stdout",
     "output_type": "stream",
     "text": [
      "{'loss': 0.8857, 'grad_norm': 11.131575584411621, 'learning_rate': 1.5492957746478872e-05, 'epoch': 2.8}\n"
     ]
    },
    {
     "name": "stderr",
     "output_type": "stream",
     "text": [
      "                                                 \n",
      "100%|██████████| 642/642 [03:02<00:00,  4.49it/s]"
     ]
    },
    {
     "name": "stdout",
     "output_type": "stream",
     "text": [
      "{'eval_loss': 1.1686632633209229, 'eval_accuracy': 0.511137162954279, 'eval_f1': 0.5084188390441348, 'eval_precision': 0.5066529864950664, 'eval_recall': 0.511137162954279, 'eval_runtime': 3.6525, 'eval_samples_per_second': 467.08, 'eval_steps_per_second': 3.833, 'epoch': 3.0}\n"
     ]
    },
    {
     "name": "stderr",
     "output_type": "stream",
     "text": [
      "100%|██████████| 642/642 [03:08<00:00,  3.41it/s]\n"
     ]
    },
    {
     "name": "stdout",
     "output_type": "stream",
     "text": [
      "{'train_runtime': 188.3999, 'train_samples_per_second': 108.647, 'train_steps_per_second': 3.408, 'train_loss': 1.1369850776648596, 'epoch': 3.0}\n"
     ]
    },
    {
     "name": "stderr",
     "output_type": "stream",
     "text": [
      "100%|██████████| 14/14 [00:03<00:00,  4.65it/s]\n"
     ]
    },
    {
     "name": "stdout",
     "output_type": "stream",
     "text": [
      "Model: bert-base-uncased\n",
      "Eğitim Süresi: 3.22 dakika\n",
      "Değerlendirme Sonuçları: {'eval_loss': 1.1686632633209229, 'eval_accuracy': 0.511137162954279, 'eval_f1': 0.5084188390441348, 'eval_precision': 0.5066529864950664, 'eval_recall': 0.511137162954279, 'eval_runtime': 3.2914, 'eval_samples_per_second': 518.322, 'eval_steps_per_second': 4.254, 'epoch': 3.0}\n",
      "Saved model and tokenizer to ./models/bert-base-uncased_aaee7c69\n",
      "New best model: bert-base-uncased\n",
      "\n",
      "--------------------------------------------------\n",
      "Eğitiliyor: bert-large-uncased\n",
      "--------------------------------------------------\n",
      "Created unique directories for bert-large-uncased\n",
      "Using device: cuda\n"
     ]
    },
    {
     "name": "stderr",
     "output_type": "stream",
     "text": [
      "  1%|          | 50/5118 [06:59<11:59:02,  8.51s/it]"
     ]
    },
    {
     "name": "stdout",
     "output_type": "stream",
     "text": [
      "{'loss': 1.8671, 'grad_norm': 43.876319885253906, 'learning_rate': 4.5e-06, 'epoch': 0.03}\n"
     ]
    },
    {
     "name": "stderr",
     "output_type": "stream",
     "text": [
      "  2%|▏         | 100/5118 [14:18<10:56:11,  7.85s/it]"
     ]
    },
    {
     "name": "stdout",
     "output_type": "stream",
     "text": [
      "{'loss': 1.6304, 'grad_norm': 15.820785522460938, 'learning_rate': 9.5e-06, 'epoch': 0.06}\n"
     ]
    },
    {
     "name": "stderr",
     "output_type": "stream",
     "text": [
      "  3%|▎         | 150/5118 [21:37<11:41:53,  8.48s/it]"
     ]
    },
    {
     "name": "stdout",
     "output_type": "stream",
     "text": [
      "{'loss': 1.601, 'grad_norm': 19.848764419555664, 'learning_rate': 1.45e-05, 'epoch': 0.09}\n"
     ]
    },
    {
     "name": "stderr",
     "output_type": "stream",
     "text": [
      "  4%|▍         | 200/5118 [28:42<11:20:27,  8.30s/it]"
     ]
    },
    {
     "name": "stdout",
     "output_type": "stream",
     "text": [
      "{'loss': 1.3785, 'grad_norm': 11.220434188842773, 'learning_rate': 1.9500000000000003e-05, 'epoch': 0.12}\n"
     ]
    },
    {
     "name": "stderr",
     "output_type": "stream",
     "text": [
      "  5%|▍         | 250/5118 [35:44<9:46:50,  7.23s/it] "
     ]
    },
    {
     "name": "stdout",
     "output_type": "stream",
     "text": [
      "{'loss': 1.2524, 'grad_norm': 16.447874069213867, 'learning_rate': 2.45e-05, 'epoch': 0.15}\n"
     ]
    },
    {
     "name": "stderr",
     "output_type": "stream",
     "text": [
      "  6%|▌         | 300/5118 [42:52<11:45:34,  8.79s/it]"
     ]
    },
    {
     "name": "stdout",
     "output_type": "stream",
     "text": [
      "{'loss': 1.2488, 'grad_norm': 19.42414665222168, 'learning_rate': 2.95e-05, 'epoch': 0.18}\n"
     ]
    },
    {
     "name": "stderr",
     "output_type": "stream",
     "text": [
      "  7%|▋         | 350/5118 [49:54<11:04:57,  8.37s/it]"
     ]
    },
    {
     "name": "stdout",
     "output_type": "stream",
     "text": [
      "{'loss': 1.3276, 'grad_norm': 20.717273712158203, 'learning_rate': 3.45e-05, 'epoch': 0.21}\n"
     ]
    },
    {
     "name": "stderr",
     "output_type": "stream",
     "text": [
      "  8%|▊         | 400/5118 [56:57<11:57:28,  9.12s/it]"
     ]
    },
    {
     "name": "stdout",
     "output_type": "stream",
     "text": [
      "{'loss': 1.4015, 'grad_norm': 15.5518159866333, 'learning_rate': 3.9500000000000005e-05, 'epoch': 0.23}\n"
     ]
    },
    {
     "name": "stderr",
     "output_type": "stream",
     "text": [
      "  9%|▉         | 450/5118 [1:04:07<11:19:15,  8.73s/it]"
     ]
    },
    {
     "name": "stdout",
     "output_type": "stream",
     "text": [
      "{'loss': 1.5426, 'grad_norm': 13.49056339263916, 'learning_rate': 4.4500000000000004e-05, 'epoch': 0.26}\n"
     ]
    },
    {
     "name": "stderr",
     "output_type": "stream",
     "text": [
      " 10%|▉         | 500/5118 [1:11:10<9:31:53,  7.43s/it] "
     ]
    },
    {
     "name": "stdout",
     "output_type": "stream",
     "text": [
      "{'loss': 1.4336, 'grad_norm': 18.60102653503418, 'learning_rate': 4.9500000000000004e-05, 'epoch': 0.29}\n"
     ]
    },
    {
     "name": "stderr",
     "output_type": "stream",
     "text": [
      " 11%|█         | 550/5118 [1:18:12<10:26:28,  8.23s/it]"
     ]
    },
    {
     "name": "stdout",
     "output_type": "stream",
     "text": [
      "{'loss': 1.4175, 'grad_norm': 19.344205856323242, 'learning_rate': 4.9512776093546995e-05, 'epoch': 0.32}\n"
     ]
    },
    {
     "name": "stderr",
     "output_type": "stream",
     "text": [
      " 12%|█▏        | 600/5118 [1:25:23<10:07:47,  8.07s/it]"
     ]
    },
    {
     "name": "stdout",
     "output_type": "stream",
     "text": [
      "{'loss': 1.5733, 'grad_norm': 14.592170715332031, 'learning_rate': 4.897141619748809e-05, 'epoch': 0.35}\n"
     ]
    },
    {
     "name": "stderr",
     "output_type": "stream",
     "text": [
      " 13%|█▎        | 650/5118 [1:32:26<9:12:36,  7.42s/it] "
     ]
    },
    {
     "name": "stdout",
     "output_type": "stream",
     "text": [
      "{'loss': 1.6247, 'grad_norm': 18.29311752319336, 'learning_rate': 4.843005630142919e-05, 'epoch': 0.38}\n"
     ]
    },
    {
     "name": "stderr",
     "output_type": "stream",
     "text": [
      " 14%|█▎        | 700/5118 [1:39:30<10:30:02,  8.56s/it]"
     ]
    },
    {
     "name": "stdout",
     "output_type": "stream",
     "text": [
      "{'loss': 1.5719, 'grad_norm': 10.833806037902832, 'learning_rate': 4.7888696405370294e-05, 'epoch': 0.41}\n"
     ]
    },
    {
     "name": "stderr",
     "output_type": "stream",
     "text": [
      " 15%|█▍        | 750/5118 [1:46:35<10:34:00,  8.71s/it]"
     ]
    },
    {
     "name": "stdout",
     "output_type": "stream",
     "text": [
      "{'loss': 1.6218, 'grad_norm': 10.231388092041016, 'learning_rate': 4.734733650931139e-05, 'epoch': 0.44}\n"
     ]
    },
    {
     "name": "stderr",
     "output_type": "stream",
     "text": [
      " 16%|█▌        | 800/5118 [1:53:38<9:16:44,  7.74s/it] "
     ]
    },
    {
     "name": "stdout",
     "output_type": "stream",
     "text": [
      "{'loss': 1.7063, 'grad_norm': 13.562712669372559, 'learning_rate': 4.68059766132525e-05, 'epoch': 0.47}\n"
     ]
    },
    {
     "name": "stderr",
     "output_type": "stream",
     "text": [
      " 17%|█▋        | 850/5118 [2:00:43<10:08:16,  8.55s/it]"
     ]
    },
    {
     "name": "stdout",
     "output_type": "stream",
     "text": [
      "{'loss': 1.6004, 'grad_norm': 7.704119682312012, 'learning_rate': 4.626461671719359e-05, 'epoch': 0.5}\n"
     ]
    },
    {
     "name": "stderr",
     "output_type": "stream",
     "text": [
      " 18%|█▊        | 900/5118 [2:07:47<10:15:20,  8.75s/it]"
     ]
    },
    {
     "name": "stdout",
     "output_type": "stream",
     "text": [
      "{'loss': 1.623, 'grad_norm': 11.555620193481445, 'learning_rate': 4.5723256821134694e-05, 'epoch': 0.53}\n"
     ]
    },
    {
     "name": "stderr",
     "output_type": "stream",
     "text": [
      " 19%|█▊        | 950/5118 [2:14:48<9:04:55,  7.84s/it] "
     ]
    },
    {
     "name": "stdout",
     "output_type": "stream",
     "text": [
      "{'loss': 1.6017, 'grad_norm': 7.491776943206787, 'learning_rate': 4.5181896925075796e-05, 'epoch': 0.56}\n"
     ]
    },
    {
     "name": "stderr",
     "output_type": "stream",
     "text": [
      " 20%|█▉        | 1000/5118 [2:21:52<8:37:24,  7.54s/it]"
     ]
    },
    {
     "name": "stdout",
     "output_type": "stream",
     "text": [
      "{'loss': 1.6458, 'grad_norm': 11.987008094787598, 'learning_rate': 4.464053702901689e-05, 'epoch': 0.59}\n"
     ]
    },
    {
     "name": "stderr",
     "output_type": "stream",
     "text": [
      " 21%|██        | 1050/5118 [2:29:01<9:57:08,  8.81s/it] "
     ]
    },
    {
     "name": "stdout",
     "output_type": "stream",
     "text": [
      "{'loss': 1.6185, 'grad_norm': 9.864466667175293, 'learning_rate': 4.409917713295799e-05, 'epoch': 0.62}\n"
     ]
    },
    {
     "name": "stderr",
     "output_type": "stream",
     "text": [
      " 21%|██▏       | 1100/5118 [2:36:04<9:09:43,  8.21s/it] "
     ]
    },
    {
     "name": "stdout",
     "output_type": "stream",
     "text": [
      "{'loss': 1.5814, 'grad_norm': 19.54568862915039, 'learning_rate': 4.355781723689909e-05, 'epoch': 0.64}\n"
     ]
    },
    {
     "name": "stderr",
     "output_type": "stream",
     "text": [
      " 22%|██▏       | 1150/5118 [2:43:08<9:15:59,  8.41s/it] "
     ]
    },
    {
     "name": "stdout",
     "output_type": "stream",
     "text": [
      "{'loss': 1.6026, 'grad_norm': 10.004101753234863, 'learning_rate': 4.3016457340840196e-05, 'epoch': 0.67}\n"
     ]
    },
    {
     "name": "stderr",
     "output_type": "stream",
     "text": [
      " 23%|██▎       | 1200/5118 [2:50:18<9:26:04,  8.67s/it] "
     ]
    },
    {
     "name": "stdout",
     "output_type": "stream",
     "text": [
      "{'loss': 1.6305, 'grad_norm': 15.716716766357422, 'learning_rate': 4.247509744478129e-05, 'epoch': 0.7}\n"
     ]
    },
    {
     "name": "stderr",
     "output_type": "stream",
     "text": [
      " 24%|██▍       | 1250/5118 [2:57:19<8:18:25,  7.73s/it] "
     ]
    },
    {
     "name": "stdout",
     "output_type": "stream",
     "text": [
      "{'loss': 1.5975, 'grad_norm': 11.410112380981445, 'learning_rate': 4.193373754872239e-05, 'epoch': 0.73}\n"
     ]
    },
    {
     "name": "stderr",
     "output_type": "stream",
     "text": [
      " 25%|██▌       | 1300/5118 [3:04:22<8:49:55,  8.33s/it] "
     ]
    },
    {
     "name": "stdout",
     "output_type": "stream",
     "text": [
      "{'loss': 1.5679, 'grad_norm': 14.61095905303955, 'learning_rate': 4.1392377652663495e-05, 'epoch': 0.76}\n"
     ]
    },
    {
     "name": "stderr",
     "output_type": "stream",
     "text": [
      " 26%|██▋       | 1350/5118 [3:11:28<9:04:20,  8.67s/it] "
     ]
    },
    {
     "name": "stdout",
     "output_type": "stream",
     "text": [
      "{'loss': 1.553, 'grad_norm': 16.722047805786133, 'learning_rate': 4.085101775660459e-05, 'epoch': 0.79}\n"
     ]
    },
    {
     "name": "stderr",
     "output_type": "stream",
     "text": [
      " 27%|██▋       | 1400/5118 [3:18:28<8:19:42,  8.06s/it] "
     ]
    },
    {
     "name": "stdout",
     "output_type": "stream",
     "text": [
      "{'loss': 1.5923, 'grad_norm': 7.722741603851318, 'learning_rate': 4.030965786054569e-05, 'epoch': 0.82}\n"
     ]
    },
    {
     "name": "stderr",
     "output_type": "stream",
     "text": [
      " 28%|██▊       | 1450/5118 [3:25:38<8:48:30,  8.65s/it] "
     ]
    },
    {
     "name": "stdout",
     "output_type": "stream",
     "text": [
      "{'loss': 1.5691, 'grad_norm': 24.61826515197754, 'learning_rate': 3.976829796448679e-05, 'epoch': 0.85}\n"
     ]
    },
    {
     "name": "stderr",
     "output_type": "stream",
     "text": [
      " 29%|██▉       | 1500/5118 [3:32:43<7:31:16,  7.48s/it] "
     ]
    },
    {
     "name": "stdout",
     "output_type": "stream",
     "text": [
      "{'loss': 1.6127, 'grad_norm': 23.66510009765625, 'learning_rate': 3.9226938068427895e-05, 'epoch': 0.88}\n"
     ]
    },
    {
     "name": "stderr",
     "output_type": "stream",
     "text": [
      " 30%|███       | 1550/5118 [3:39:44<7:10:05,  7.23s/it] "
     ]
    },
    {
     "name": "stdout",
     "output_type": "stream",
     "text": [
      "{'loss': 1.6161, 'grad_norm': 16.923805236816406, 'learning_rate': 3.868557817236899e-05, 'epoch': 0.91}\n"
     ]
    },
    {
     "name": "stderr",
     "output_type": "stream",
     "text": [
      " 31%|███▏      | 1600/5118 [3:46:48<7:34:08,  7.75s/it] "
     ]
    },
    {
     "name": "stdout",
     "output_type": "stream",
     "text": [
      "{'loss': 1.6122, 'grad_norm': 8.409173965454102, 'learning_rate': 3.81442182763101e-05, 'epoch': 0.94}\n"
     ]
    },
    {
     "name": "stderr",
     "output_type": "stream",
     "text": [
      " 32%|███▏      | 1650/5118 [3:53:53<8:18:36,  8.63s/it] "
     ]
    },
    {
     "name": "stdout",
     "output_type": "stream",
     "text": [
      "{'loss': 1.6028, 'grad_norm': 13.554037094116211, 'learning_rate': 3.760285838025119e-05, 'epoch': 0.97}\n"
     ]
    },
    {
     "name": "stderr",
     "output_type": "stream",
     "text": [
      " 33%|███▎      | 1700/5118 [4:00:53<7:41:01,  8.09s/it] "
     ]
    },
    {
     "name": "stdout",
     "output_type": "stream",
     "text": [
      "{'loss': 1.6148, 'grad_norm': 22.505512237548828, 'learning_rate': 3.7061498484192295e-05, 'epoch': 1.0}\n"
     ]
    },
    {
     "name": "stderr",
     "output_type": "stream",
     "text": [
      " 33%|███▎      | 1706/5118 [4:01:40<8:47:21,  9.27s/it]c:\\Users\\osman\\OneDrive - Harran Üniversitesi\\Belgeler\\Movie-Recommendation-System\\venv\\Lib\\site-packages\\sklearn\\metrics\\_classification.py:1565: UndefinedMetricWarning: Precision is ill-defined and being set to 0.0 in labels with no predicted samples. Use `zero_division` parameter to control this behavior.\n",
      "  _warn_prf(average, modifier, f\"{metric.capitalize()} is\", len(result))\n",
      "\n",
      " 33%|███▎      | 1706/5118 [4:01:59<8:47:21,  9.27s/it]"
     ]
    },
    {
     "name": "stdout",
     "output_type": "stream",
     "text": [
      "{'eval_loss': 1.5826849937438965, 'eval_accuracy': 0.25791324736225085, 'eval_f1': 0.1057612570730572, 'eval_precision': 0.06651924316494161, 'eval_recall': 0.25791324736225085, 'eval_runtime': 18.3495, 'eval_samples_per_second': 92.972, 'eval_steps_per_second': 5.831, 'epoch': 1.0}\n"
     ]
    },
    {
     "name": "stderr",
     "output_type": "stream",
     "text": [
      " 34%|███▍      | 1750/5118 [4:08:47<7:54:24,  8.45s/it] "
     ]
    },
    {
     "name": "stdout",
     "output_type": "stream",
     "text": [
      "{'loss': 1.6203, 'grad_norm': 19.33455467224121, 'learning_rate': 3.652013858813339e-05, 'epoch': 1.03}\n"
     ]
    },
    {
     "name": "stderr",
     "output_type": "stream",
     "text": [
      " 35%|███▌      | 1800/5118 [4:15:43<7:31:10,  8.16s/it]"
     ]
    },
    {
     "name": "stdout",
     "output_type": "stream",
     "text": [
      "{'loss': 1.5865, 'grad_norm': 16.684246063232422, 'learning_rate': 3.597877869207449e-05, 'epoch': 1.06}\n"
     ]
    },
    {
     "name": "stderr",
     "output_type": "stream",
     "text": [
      " 36%|███▌      | 1850/5118 [4:22:43<7:00:38,  7.72s/it]"
     ]
    },
    {
     "name": "stdout",
     "output_type": "stream",
     "text": [
      "{'loss': 1.5656, 'grad_norm': 14.690391540527344, 'learning_rate': 3.5437418796015594e-05, 'epoch': 1.08}\n"
     ]
    },
    {
     "name": "stderr",
     "output_type": "stream",
     "text": [
      " 37%|███▋      | 1900/5118 [4:29:28<5:42:49,  6.39s/it]"
     ]
    },
    {
     "name": "stdout",
     "output_type": "stream",
     "text": [
      "{'loss': 1.6128, 'grad_norm': 7.896274089813232, 'learning_rate': 3.489605889995669e-05, 'epoch': 1.11}\n"
     ]
    },
    {
     "name": "stderr",
     "output_type": "stream",
     "text": [
      " 38%|███▊      | 1950/5118 [4:36:10<7:03:15,  8.02s/it]"
     ]
    },
    {
     "name": "stdout",
     "output_type": "stream",
     "text": [
      "{'loss': 1.6008, 'grad_norm': 16.57966423034668, 'learning_rate': 3.43546990038978e-05, 'epoch': 1.14}\n"
     ]
    },
    {
     "name": "stderr",
     "output_type": "stream",
     "text": [
      " 39%|███▉      | 2000/5118 [4:42:51<6:16:13,  7.24s/it]"
     ]
    },
    {
     "name": "stdout",
     "output_type": "stream",
     "text": [
      "{'loss': 1.6018, 'grad_norm': 20.812488555908203, 'learning_rate': 3.381333910783889e-05, 'epoch': 1.17}\n"
     ]
    },
    {
     "name": "stderr",
     "output_type": "stream",
     "text": [
      " 40%|████      | 2050/5118 [4:49:32<6:22:09,  7.47s/it]"
     ]
    },
    {
     "name": "stdout",
     "output_type": "stream",
     "text": [
      "{'loss': 1.5813, 'grad_norm': 12.117691993713379, 'learning_rate': 3.3271979211779994e-05, 'epoch': 1.2}\n"
     ]
    },
    {
     "name": "stderr",
     "output_type": "stream",
     "text": [
      " 41%|████      | 2100/5118 [4:56:18<6:19:13,  7.54s/it]"
     ]
    },
    {
     "name": "stdout",
     "output_type": "stream",
     "text": [
      "{'loss': 1.6131, 'grad_norm': 7.990252494812012, 'learning_rate': 3.2730619315721096e-05, 'epoch': 1.23}\n"
     ]
    },
    {
     "name": "stderr",
     "output_type": "stream",
     "text": [
      " 42%|████▏     | 2150/5118 [5:03:02<6:53:19,  8.36s/it]"
     ]
    },
    {
     "name": "stdout",
     "output_type": "stream",
     "text": [
      "{'loss': 1.5726, 'grad_norm': 16.4155330657959, 'learning_rate': 3.218925941966219e-05, 'epoch': 1.26}\n"
     ]
    },
    {
     "name": "stderr",
     "output_type": "stream",
     "text": [
      " 43%|████▎     | 2200/5118 [5:09:43<6:22:01,  7.86s/it]"
     ]
    },
    {
     "name": "stdout",
     "output_type": "stream",
     "text": [
      "{'loss': 1.6108, 'grad_norm': 16.281557083129883, 'learning_rate': 3.164789952360329e-05, 'epoch': 1.29}\n"
     ]
    },
    {
     "name": "stderr",
     "output_type": "stream",
     "text": [
      " 44%|████▍     | 2250/5118 [5:16:24<5:29:36,  6.90s/it]"
     ]
    },
    {
     "name": "stdout",
     "output_type": "stream",
     "text": [
      "{'loss': 1.6003, 'grad_norm': 11.38588809967041, 'learning_rate': 3.1106539627544394e-05, 'epoch': 1.32}\n"
     ]
    },
    {
     "name": "stderr",
     "output_type": "stream",
     "text": [
      " 45%|████▍     | 2300/5118 [5:23:13<6:17:23,  8.04s/it]"
     ]
    },
    {
     "name": "stdout",
     "output_type": "stream",
     "text": [
      "{'loss': 1.5979, 'grad_norm': 16.26024627685547, 'learning_rate': 3.0565179731485496e-05, 'epoch': 1.35}\n"
     ]
    },
    {
     "name": "stderr",
     "output_type": "stream",
     "text": [
      " 46%|████▌     | 2350/5118 [5:29:58<6:09:39,  8.01s/it]"
     ]
    },
    {
     "name": "stdout",
     "output_type": "stream",
     "text": [
      "{'loss': 1.6298, 'grad_norm': 14.265623092651367, 'learning_rate': 3.002381983542659e-05, 'epoch': 1.38}\n"
     ]
    },
    {
     "name": "stderr",
     "output_type": "stream",
     "text": [
      " 47%|████▋     | 2400/5118 [5:36:40<6:07:36,  8.12s/it]"
     ]
    },
    {
     "name": "stdout",
     "output_type": "stream",
     "text": [
      "{'loss': 1.6164, 'grad_norm': 14.684432983398438, 'learning_rate': 2.948245993936769e-05, 'epoch': 1.41}\n"
     ]
    },
    {
     "name": "stderr",
     "output_type": "stream",
     "text": [
      " 48%|████▊     | 2450/5118 [5:43:26<6:16:03,  8.46s/it]"
     ]
    },
    {
     "name": "stdout",
     "output_type": "stream",
     "text": [
      "{'loss': 1.596, 'grad_norm': 14.11247730255127, 'learning_rate': 2.8941100043308794e-05, 'epoch': 1.44}\n"
     ]
    },
    {
     "name": "stderr",
     "output_type": "stream",
     "text": [
      " 49%|████▉     | 2500/5118 [5:50:08<5:31:17,  7.59s/it]"
     ]
    },
    {
     "name": "stdout",
     "output_type": "stream",
     "text": [
      "{'loss': 1.584, 'grad_norm': 13.783160209655762, 'learning_rate': 2.8399740147249893e-05, 'epoch': 1.47}\n"
     ]
    },
    {
     "name": "stderr",
     "output_type": "stream",
     "text": [
      " 50%|████▉     | 2550/5118 [5:56:52<5:24:10,  7.57s/it]"
     ]
    },
    {
     "name": "stdout",
     "output_type": "stream",
     "text": [
      "{'loss': 1.6001, 'grad_norm': 16.188390731811523, 'learning_rate': 2.785838025119099e-05, 'epoch': 1.49}\n"
     ]
    },
    {
     "name": "stderr",
     "output_type": "stream",
     "text": [
      " 51%|█████     | 2600/5118 [6:03:37<5:44:37,  8.21s/it]"
     ]
    },
    {
     "name": "stdout",
     "output_type": "stream",
     "text": [
      "{'loss': 1.6404, 'grad_norm': 14.913002014160156, 'learning_rate': 2.7317020355132096e-05, 'epoch': 1.52}\n"
     ]
    },
    {
     "name": "stderr",
     "output_type": "stream",
     "text": [
      " 52%|█████▏    | 2650/5118 [6:10:18<6:03:22,  8.83s/it]"
     ]
    },
    {
     "name": "stdout",
     "output_type": "stream",
     "text": [
      "{'loss': 1.609, 'grad_norm': 7.016654014587402, 'learning_rate': 2.6775660459073195e-05, 'epoch': 1.55}\n"
     ]
    },
    {
     "name": "stderr",
     "output_type": "stream",
     "text": [
      " 53%|█████▎    | 2700/5118 [6:16:57<5:10:23,  7.70s/it]"
     ]
    },
    {
     "name": "stdout",
     "output_type": "stream",
     "text": [
      "{'loss': 1.5944, 'grad_norm': 15.866144180297852, 'learning_rate': 2.623430056301429e-05, 'epoch': 1.58}\n"
     ]
    },
    {
     "name": "stderr",
     "output_type": "stream",
     "text": [
      " 54%|█████▎    | 2750/5118 [6:23:41<5:15:52,  8.00s/it]"
     ]
    },
    {
     "name": "stdout",
     "output_type": "stream",
     "text": [
      "{'loss': 1.6136, 'grad_norm': 11.336359024047852, 'learning_rate': 2.5692940666955395e-05, 'epoch': 1.61}\n"
     ]
    },
    {
     "name": "stderr",
     "output_type": "stream",
     "text": [
      " 55%|█████▍    | 2800/5118 [6:30:26<4:48:31,  7.47s/it]"
     ]
    },
    {
     "name": "stdout",
     "output_type": "stream",
     "text": [
      "{'loss': 1.588, 'grad_norm': 19.564945220947266, 'learning_rate': 2.5151580770896493e-05, 'epoch': 1.64}\n"
     ]
    },
    {
     "name": "stderr",
     "output_type": "stream",
     "text": [
      " 56%|█████▌    | 2850/5118 [6:37:11<5:05:06,  8.07s/it]"
     ]
    },
    {
     "name": "stdout",
     "output_type": "stream",
     "text": [
      "{'loss': 1.624, 'grad_norm': 10.656569480895996, 'learning_rate': 2.4610220874837595e-05, 'epoch': 1.67}\n"
     ]
    },
    {
     "name": "stderr",
     "output_type": "stream",
     "text": [
      " 57%|█████▋    | 2900/5118 [6:43:43<4:24:46,  7.16s/it]"
     ]
    },
    {
     "name": "stdout",
     "output_type": "stream",
     "text": [
      "{'loss': 1.5843, 'grad_norm': 6.911519527435303, 'learning_rate': 2.4068860978778693e-05, 'epoch': 1.7}\n"
     ]
    },
    {
     "name": "stderr",
     "output_type": "stream",
     "text": [
      " 58%|█████▊    | 2950/5118 [6:50:15<4:13:50,  7.03s/it]"
     ]
    },
    {
     "name": "stdout",
     "output_type": "stream",
     "text": [
      "{'loss': 1.585, 'grad_norm': 8.52484130859375, 'learning_rate': 2.3527501082719795e-05, 'epoch': 1.73}\n"
     ]
    },
    {
     "name": "stderr",
     "output_type": "stream",
     "text": [
      " 59%|█████▊    | 3000/5118 [6:57:11<4:48:19,  8.17s/it]"
     ]
    },
    {
     "name": "stdout",
     "output_type": "stream",
     "text": [
      "{'loss': 1.5966, 'grad_norm': 15.109465599060059, 'learning_rate': 2.2986141186660893e-05, 'epoch': 1.76}\n"
     ]
    },
    {
     "name": "stderr",
     "output_type": "stream",
     "text": [
      " 60%|█████▉    | 3050/5118 [7:04:21<6:17:59, 10.97s/it]"
     ]
    },
    {
     "name": "stdout",
     "output_type": "stream",
     "text": [
      "{'loss': 1.5881, 'grad_norm': 13.276422500610352, 'learning_rate': 2.2444781290601992e-05, 'epoch': 1.79}\n"
     ]
    },
    {
     "name": "stderr",
     "output_type": "stream",
     "text": [
      " 61%|██████    | 3100/5118 [7:11:28<4:48:43,  8.58s/it]"
     ]
    },
    {
     "name": "stdout",
     "output_type": "stream",
     "text": [
      "{'loss': 1.5684, 'grad_norm': 14.216737747192383, 'learning_rate': 2.1903421394543093e-05, 'epoch': 1.82}\n"
     ]
    },
    {
     "name": "stderr",
     "output_type": "stream",
     "text": [
      " 62%|██████▏   | 3150/5118 [7:18:29<5:07:06,  9.36s/it]"
     ]
    },
    {
     "name": "stdout",
     "output_type": "stream",
     "text": [
      "{'loss': 1.5823, 'grad_norm': 15.943893432617188, 'learning_rate': 2.1362061498484192e-05, 'epoch': 1.85}\n"
     ]
    },
    {
     "name": "stderr",
     "output_type": "stream",
     "text": [
      " 63%|██████▎   | 3200/5118 [7:25:41<5:48:19, 10.90s/it]"
     ]
    },
    {
     "name": "stdout",
     "output_type": "stream",
     "text": [
      "{'loss': 1.5335, 'grad_norm': 22.27817726135254, 'learning_rate': 2.0820701602425294e-05, 'epoch': 1.88}\n"
     ]
    },
    {
     "name": "stderr",
     "output_type": "stream",
     "text": [
      " 64%|██████▎   | 3250/5118 [7:32:47<4:11:42,  8.08s/it]"
     ]
    },
    {
     "name": "stdout",
     "output_type": "stream",
     "text": [
      "{'loss': 1.5514, 'grad_norm': 13.885841369628906, 'learning_rate': 2.0279341706366392e-05, 'epoch': 1.91}\n"
     ]
    },
    {
     "name": "stderr",
     "output_type": "stream",
     "text": [
      " 64%|██████▍   | 3300/5118 [7:39:47<3:31:34,  6.98s/it]"
     ]
    },
    {
     "name": "stdout",
     "output_type": "stream",
     "text": [
      "{'loss': 1.6234, 'grad_norm': 15.869318962097168, 'learning_rate': 1.9737981810307494e-05, 'epoch': 1.93}\n"
     ]
    },
    {
     "name": "stderr",
     "output_type": "stream",
     "text": [
      " 65%|██████▌   | 3350/5118 [7:46:51<4:12:08,  8.56s/it]"
     ]
    },
    {
     "name": "stdout",
     "output_type": "stream",
     "text": [
      "{'loss': 1.5804, 'grad_norm': 12.673933029174805, 'learning_rate': 1.9196621914248596e-05, 'epoch': 1.96}\n"
     ]
    },
    {
     "name": "stderr",
     "output_type": "stream",
     "text": [
      " 66%|██████▋   | 3400/5118 [7:53:55<3:28:19,  7.28s/it]"
     ]
    },
    {
     "name": "stdout",
     "output_type": "stream",
     "text": [
      "{'loss': 1.5748, 'grad_norm': 22.08446502685547, 'learning_rate': 1.8655262018189694e-05, 'epoch': 1.99}\n"
     ]
    },
    {
     "name": "stderr",
     "output_type": "stream",
     "text": [
      " 67%|██████▋   | 3412/5118 [7:55:27<3:33:51,  7.52s/it]c:\\Users\\osman\\OneDrive - Harran Üniversitesi\\Belgeler\\Movie-Recommendation-System\\venv\\Lib\\site-packages\\sklearn\\metrics\\_classification.py:1565: UndefinedMetricWarning: Precision is ill-defined and being set to 0.0 in labels with no predicted samples. Use `zero_division` parameter to control this behavior.\n",
      "  _warn_prf(average, modifier, f\"{metric.capitalize()} is\", len(result))\n",
      "\n",
      " 67%|██████▋   | 3412/5118 [7:55:49<3:33:51,  7.52s/it]"
     ]
    },
    {
     "name": "stdout",
     "output_type": "stream",
     "text": [
      "{'eval_loss': 1.5713062286376953, 'eval_accuracy': 0.2719812426729191, 'eval_f1': 0.11631271576058476, 'eval_precision': 0.07397379636590531, 'eval_recall': 0.2719812426729191, 'eval_runtime': 21.8392, 'eval_samples_per_second': 78.116, 'eval_steps_per_second': 4.899, 'epoch': 2.0}\n"
     ]
    },
    {
     "name": "stderr",
     "output_type": "stream",
     "text": [
      " 67%|██████▋   | 3450/5118 [8:02:15<5:09:46, 11.14s/it] "
     ]
    },
    {
     "name": "stdout",
     "output_type": "stream",
     "text": [
      "{'loss': 1.6042, 'grad_norm': 11.150880813598633, 'learning_rate': 1.8113902122130792e-05, 'epoch': 2.02}\n"
     ]
    },
    {
     "name": "stderr",
     "output_type": "stream",
     "text": [
      " 68%|██████▊   | 3500/5118 [8:09:32<3:37:59,  8.08s/it]"
     ]
    },
    {
     "name": "stdout",
     "output_type": "stream",
     "text": [
      "{'loss': 1.5808, 'grad_norm': 16.37531280517578, 'learning_rate': 1.7572542226071894e-05, 'epoch': 2.05}\n"
     ]
    },
    {
     "name": "stderr",
     "output_type": "stream",
     "text": [
      " 69%|██████▉   | 3550/5118 [8:16:50<3:31:06,  8.08s/it]"
     ]
    },
    {
     "name": "stdout",
     "output_type": "stream",
     "text": [
      "{'loss': 1.5971, 'grad_norm': 8.861767768859863, 'learning_rate': 1.7031182330012992e-05, 'epoch': 2.08}\n"
     ]
    },
    {
     "name": "stderr",
     "output_type": "stream",
     "text": [
      " 70%|███████   | 3600/5118 [8:24:08<3:33:07,  8.42s/it]"
     ]
    },
    {
     "name": "stdout",
     "output_type": "stream",
     "text": [
      "{'loss': 1.5423, 'grad_norm': 14.035526275634766, 'learning_rate': 1.6489822433954094e-05, 'epoch': 2.11}\n"
     ]
    },
    {
     "name": "stderr",
     "output_type": "stream",
     "text": [
      " 71%|███████▏  | 3650/5118 [8:31:11<3:09:10,  7.73s/it]"
     ]
    },
    {
     "name": "stdout",
     "output_type": "stream",
     "text": [
      "{'loss': 1.6101, 'grad_norm': 21.748125076293945, 'learning_rate': 1.5948462537895192e-05, 'epoch': 2.14}\n"
     ]
    },
    {
     "name": "stderr",
     "output_type": "stream",
     "text": [
      " 72%|███████▏  | 3700/5118 [8:38:14<3:24:26,  8.65s/it]"
     ]
    },
    {
     "name": "stdout",
     "output_type": "stream",
     "text": [
      "{'loss': 1.5993, 'grad_norm': 17.015979766845703, 'learning_rate': 1.5407102641836294e-05, 'epoch': 2.17}\n"
     ]
    },
    {
     "name": "stderr",
     "output_type": "stream",
     "text": [
      " 73%|███████▎  | 3750/5118 [8:45:17<3:01:44,  7.97s/it]"
     ]
    },
    {
     "name": "stdout",
     "output_type": "stream",
     "text": [
      "{'loss': 1.6229, 'grad_norm': 10.554559707641602, 'learning_rate': 1.4865742745777394e-05, 'epoch': 2.2}\n"
     ]
    },
    {
     "name": "stderr",
     "output_type": "stream",
     "text": [
      " 74%|███████▍  | 3800/5118 [8:52:19<2:57:12,  8.07s/it]"
     ]
    },
    {
     "name": "stdout",
     "output_type": "stream",
     "text": [
      "{'loss': 1.5947, 'grad_norm': 18.019948959350586, 'learning_rate': 1.4324382849718493e-05, 'epoch': 2.23}\n"
     ]
    },
    {
     "name": "stderr",
     "output_type": "stream",
     "text": [
      " 75%|███████▌  | 3850/5118 [8:59:25<3:03:27,  8.68s/it]"
     ]
    },
    {
     "name": "stdout",
     "output_type": "stream",
     "text": [
      "{'loss': 1.6105, 'grad_norm': 27.111183166503906, 'learning_rate': 1.3783022953659594e-05, 'epoch': 2.26}\n"
     ]
    },
    {
     "name": "stderr",
     "output_type": "stream",
     "text": [
      " 76%|███████▌  | 3900/5118 [9:06:26<3:33:07, 10.50s/it]"
     ]
    },
    {
     "name": "stdout",
     "output_type": "stream",
     "text": [
      "{'loss': 1.5973, 'grad_norm': 16.924062728881836, 'learning_rate': 1.3241663057600693e-05, 'epoch': 2.29}\n"
     ]
    },
    {
     "name": "stderr",
     "output_type": "stream",
     "text": [
      " 77%|███████▋  | 3950/5118 [9:13:26<2:51:02,  8.79s/it]"
     ]
    },
    {
     "name": "stdout",
     "output_type": "stream",
     "text": [
      "{'loss': 1.5416, 'grad_norm': 18.15256690979004, 'learning_rate': 1.2700303161541793e-05, 'epoch': 2.32}\n"
     ]
    },
    {
     "name": "stderr",
     "output_type": "stream",
     "text": [
      " 78%|███████▊  | 4000/5118 [9:20:32<3:31:07, 11.33s/it]"
     ]
    },
    {
     "name": "stdout",
     "output_type": "stream",
     "text": [
      "{'loss': 1.6098, 'grad_norm': 17.354707717895508, 'learning_rate': 1.2158943265482893e-05, 'epoch': 2.34}\n"
     ]
    },
    {
     "name": "stderr",
     "output_type": "stream",
     "text": [
      " 79%|███████▉  | 4050/5118 [9:27:39<2:28:36,  8.35s/it]"
     ]
    },
    {
     "name": "stdout",
     "output_type": "stream",
     "text": [
      "{'loss': 1.5634, 'grad_norm': 14.128204345703125, 'learning_rate': 1.1617583369423995e-05, 'epoch': 2.37}\n"
     ]
    },
    {
     "name": "stderr",
     "output_type": "stream",
     "text": [
      " 80%|████████  | 4100/5118 [9:34:40<2:14:46,  7.94s/it]"
     ]
    },
    {
     "name": "stdout",
     "output_type": "stream",
     "text": [
      "{'loss': 1.5267, 'grad_norm': 18.58829116821289, 'learning_rate': 1.1076223473365093e-05, 'epoch': 2.4}\n"
     ]
    },
    {
     "name": "stderr",
     "output_type": "stream",
     "text": [
      " 81%|████████  | 4150/5118 [9:41:47<2:13:27,  8.27s/it]"
     ]
    },
    {
     "name": "stdout",
     "output_type": "stream",
     "text": [
      "{'loss': 1.581, 'grad_norm': 13.562108993530273, 'learning_rate': 1.0534863577306193e-05, 'epoch': 2.43}\n"
     ]
    },
    {
     "name": "stderr",
     "output_type": "stream",
     "text": [
      " 82%|████████▏ | 4200/5118 [9:48:52<2:13:35,  8.73s/it]"
     ]
    },
    {
     "name": "stdout",
     "output_type": "stream",
     "text": [
      "{'loss': 1.6212, 'grad_norm': 9.5494966506958, 'learning_rate': 9.993503681247293e-06, 'epoch': 2.46}\n"
     ]
    },
    {
     "name": "stderr",
     "output_type": "stream",
     "text": [
      " 83%|████████▎ | 4250/5118 [9:55:51<1:53:54,  7.87s/it]"
     ]
    },
    {
     "name": "stdout",
     "output_type": "stream",
     "text": [
      "{'loss': 1.5747, 'grad_norm': 8.705863952636719, 'learning_rate': 9.452143785188395e-06, 'epoch': 2.49}\n"
     ]
    },
    {
     "name": "stderr",
     "output_type": "stream",
     "text": [
      " 84%|████████▍ | 4300/5118 [10:03:07<1:39:11,  7.28s/it]"
     ]
    },
    {
     "name": "stdout",
     "output_type": "stream",
     "text": [
      "{'loss': 1.5846, 'grad_norm': 11.794296264648438, 'learning_rate': 8.910783889129493e-06, 'epoch': 2.52}\n"
     ]
    },
    {
     "name": "stderr",
     "output_type": "stream",
     "text": [
      " 85%|████████▍ | 4350/5118 [10:10:08<1:48:16,  8.46s/it]"
     ]
    },
    {
     "name": "stdout",
     "output_type": "stream",
     "text": [
      "{'loss': 1.6065, 'grad_norm': 6.717281818389893, 'learning_rate': 8.369423993070593e-06, 'epoch': 2.55}\n"
     ]
    },
    {
     "name": "stderr",
     "output_type": "stream",
     "text": [
      " 86%|████████▌ | 4400/5118 [10:17:06<1:36:34,  8.07s/it]"
     ]
    },
    {
     "name": "stdout",
     "output_type": "stream",
     "text": [
      "{'loss': 1.5907, 'grad_norm': 12.381693840026855, 'learning_rate': 7.828064097011693e-06, 'epoch': 2.58}\n"
     ]
    },
    {
     "name": "stderr",
     "output_type": "stream",
     "text": [
      " 87%|████████▋ | 4450/5118 [10:24:12<1:27:46,  7.88s/it]"
     ]
    },
    {
     "name": "stdout",
     "output_type": "stream",
     "text": [
      "{'loss': 1.6408, 'grad_norm': 16.847736358642578, 'learning_rate': 7.286704200952794e-06, 'epoch': 2.61}\n"
     ]
    },
    {
     "name": "stderr",
     "output_type": "stream",
     "text": [
      " 88%|████████▊ | 4500/5118 [10:31:16<1:22:59,  8.06s/it]"
     ]
    },
    {
     "name": "stdout",
     "output_type": "stream",
     "text": [
      "{'loss': 1.585, 'grad_norm': 10.561643600463867, 'learning_rate': 6.7453443048938944e-06, 'epoch': 2.64}\n"
     ]
    },
    {
     "name": "stderr",
     "output_type": "stream",
     "text": [
      " 89%|████████▉ | 4550/5118 [10:38:17<1:10:10,  7.41s/it]"
     ]
    },
    {
     "name": "stdout",
     "output_type": "stream",
     "text": [
      "{'loss': 1.5633, 'grad_norm': 17.7785587310791, 'learning_rate': 6.203984408834994e-06, 'epoch': 2.67}\n"
     ]
    },
    {
     "name": "stderr",
     "output_type": "stream",
     "text": [
      " 90%|████████▉ | 4600/5118 [10:45:21<1:12:25,  8.39s/it]"
     ]
    },
    {
     "name": "stdout",
     "output_type": "stream",
     "text": [
      "{'loss': 1.6016, 'grad_norm': 8.304028511047363, 'learning_rate': 5.662624512776094e-06, 'epoch': 2.7}\n"
     ]
    },
    {
     "name": "stderr",
     "output_type": "stream",
     "text": [
      " 91%|█████████ | 4650/5118 [10:52:23<1:05:48,  8.44s/it]"
     ]
    },
    {
     "name": "stdout",
     "output_type": "stream",
     "text": [
      "{'loss': 1.5954, 'grad_norm': 11.773849487304688, 'learning_rate': 5.121264616717194e-06, 'epoch': 2.73}\n"
     ]
    },
    {
     "name": "stderr",
     "output_type": "stream",
     "text": [
      " 92%|█████████▏| 4700/5118 [10:59:24<1:11:12, 10.22s/it]"
     ]
    },
    {
     "name": "stdout",
     "output_type": "stream",
     "text": [
      "{'loss': 1.5685, 'grad_norm': 12.069730758666992, 'learning_rate': 4.579904720658294e-06, 'epoch': 2.75}\n"
     ]
    },
    {
     "name": "stderr",
     "output_type": "stream",
     "text": [
      " 93%|█████████▎| 4750/5118 [11:06:29<1:06:45, 10.88s/it]"
     ]
    },
    {
     "name": "stdout",
     "output_type": "stream",
     "text": [
      "{'loss': 1.5596, 'grad_norm': 19.098161697387695, 'learning_rate': 4.038544824599394e-06, 'epoch': 2.78}\n"
     ]
    },
    {
     "name": "stderr",
     "output_type": "stream",
     "text": [
      " 94%|█████████▍| 4800/5118 [11:13:32<44:22,  8.37s/it]  "
     ]
    },
    {
     "name": "stdout",
     "output_type": "stream",
     "text": [
      "{'loss': 1.5849, 'grad_norm': 14.097557067871094, 'learning_rate': 3.4971849285404935e-06, 'epoch': 2.81}\n"
     ]
    },
    {
     "name": "stderr",
     "output_type": "stream",
     "text": [
      " 95%|█████████▍| 4850/5118 [11:20:32<37:41,  8.44s/it]"
     ]
    },
    {
     "name": "stdout",
     "output_type": "stream",
     "text": [
      "{'loss': 1.5373, 'grad_norm': 15.457828521728516, 'learning_rate': 2.955825032481594e-06, 'epoch': 2.84}\n"
     ]
    },
    {
     "name": "stderr",
     "output_type": "stream",
     "text": [
      " 96%|█████████▌| 4900/5118 [11:27:39<35:58,  9.90s/it]"
     ]
    },
    {
     "name": "stdout",
     "output_type": "stream",
     "text": [
      "{'loss': 1.5812, 'grad_norm': 11.9297456741333, 'learning_rate': 2.4144651364226937e-06, 'epoch': 2.87}\n"
     ]
    },
    {
     "name": "stderr",
     "output_type": "stream",
     "text": [
      " 97%|█████████▋| 4950/5118 [11:34:44<22:03,  7.88s/it]"
     ]
    },
    {
     "name": "stdout",
     "output_type": "stream",
     "text": [
      "{'loss': 1.625, 'grad_norm': 7.3708977699279785, 'learning_rate': 1.8731052403637937e-06, 'epoch': 2.9}\n"
     ]
    },
    {
     "name": "stderr",
     "output_type": "stream",
     "text": [
      " 98%|█████████▊| 5000/5118 [11:41:41<15:27,  7.86s/it]"
     ]
    },
    {
     "name": "stdout",
     "output_type": "stream",
     "text": [
      "{'loss': 1.5967, 'grad_norm': 18.255882263183594, 'learning_rate': 1.331745344304894e-06, 'epoch': 2.93}\n"
     ]
    },
    {
     "name": "stderr",
     "output_type": "stream",
     "text": [
      " 99%|█████████▊| 5050/5118 [11:48:44<08:49,  7.79s/it]"
     ]
    },
    {
     "name": "stdout",
     "output_type": "stream",
     "text": [
      "{'loss': 1.6101, 'grad_norm': 13.68862247467041, 'learning_rate': 7.903854482459941e-07, 'epoch': 2.96}\n"
     ]
    },
    {
     "name": "stderr",
     "output_type": "stream",
     "text": [
      "100%|█████████▉| 5100/5118 [11:55:45<03:14, 10.81s/it]"
     ]
    },
    {
     "name": "stdout",
     "output_type": "stream",
     "text": [
      "{'loss': 1.5573, 'grad_norm': 14.52187728881836, 'learning_rate': 2.49025552187094e-07, 'epoch': 2.99}\n"
     ]
    },
    {
     "name": "stderr",
     "output_type": "stream",
     "text": [
      "100%|██████████| 5118/5118 [11:58:09<00:00,  8.27s/it]c:\\Users\\osman\\OneDrive - Harran Üniversitesi\\Belgeler\\Movie-Recommendation-System\\venv\\Lib\\site-packages\\sklearn\\metrics\\_classification.py:1565: UndefinedMetricWarning: Precision is ill-defined and being set to 0.0 in labels with no predicted samples. Use `zero_division` parameter to control this behavior.\n",
      "  _warn_prf(average, modifier, f\"{metric.capitalize()} is\", len(result))\n",
      "\n",
      "100%|██████████| 5118/5118 [11:58:31<00:00,  8.27s/it]"
     ]
    },
    {
     "name": "stdout",
     "output_type": "stream",
     "text": [
      "{'eval_loss': 1.5681509971618652, 'eval_accuracy': 0.2719812426729191, 'eval_f1': 0.11631271576058476, 'eval_precision': 0.07397379636590531, 'eval_recall': 0.2719812426729191, 'eval_runtime': 22.1554, 'eval_samples_per_second': 77.002, 'eval_steps_per_second': 4.83, 'epoch': 3.0}\n"
     ]
    },
    {
     "name": "stderr",
     "output_type": "stream",
     "text": [
      "100%|██████████| 5118/5118 [11:59:28<00:00,  8.43s/it]\n"
     ]
    },
    {
     "name": "stdout",
     "output_type": "stream",
     "text": [
      "{'train_runtime': 43168.8067, 'train_samples_per_second': 0.474, 'train_steps_per_second': 0.119, 'train_loss': 1.58092484468592, 'epoch': 3.0}\n"
     ]
    },
    {
     "name": "stderr",
     "output_type": "stream",
     "text": [
      " 99%|█████████▉| 106/107 [00:11<00:00,  7.73it/s]c:\\Users\\osman\\OneDrive - Harran Üniversitesi\\Belgeler\\Movie-Recommendation-System\\venv\\Lib\\site-packages\\sklearn\\metrics\\_classification.py:1565: UndefinedMetricWarning: Precision is ill-defined and being set to 0.0 in labels with no predicted samples. Use `zero_division` parameter to control this behavior.\n",
      "  _warn_prf(average, modifier, f\"{metric.capitalize()} is\", len(result))\n",
      "100%|██████████| 107/107 [00:12<00:00,  8.88it/s]\n"
     ]
    },
    {
     "name": "stdout",
     "output_type": "stream",
     "text": [
      "Model: bert-large-uncased\n",
      "Eğitim Süresi: 719.52 dakika\n",
      "Değerlendirme Sonuçları: {'eval_loss': 1.5713062286376953, 'eval_accuracy': 0.2719812426729191, 'eval_f1': 0.11631271576058476, 'eval_precision': 0.07397379636590531, 'eval_recall': 0.2719812426729191, 'eval_runtime': 12.632, 'eval_samples_per_second': 135.054, 'eval_steps_per_second': 8.471, 'epoch': 3.0}\n",
      "Saved model and tokenizer to ./models/bert-large-uncased_c9d06f54\n",
      "\n",
      "--------------------------------------------------\n",
      "Eğitiliyor: distilbert-base-uncased\n",
      "--------------------------------------------------\n",
      "Created unique directories for distilbert-base-uncased\n",
      "Using device: cuda\n"
     ]
    },
    {
     "name": "stderr",
     "output_type": "stream",
     "text": [
      "  8%|▊         | 51/642 [00:07<01:26,  6.82it/s]"
     ]
    },
    {
     "name": "stdout",
     "output_type": "stream",
     "text": [
      "{'loss': 1.5993, 'grad_norm': 1.0286589860916138, 'learning_rate': 5e-06, 'epoch': 0.23}\n"
     ]
    },
    {
     "name": "stderr",
     "output_type": "stream",
     "text": [
      " 16%|█▌        | 101/642 [00:14<01:17,  6.95it/s]"
     ]
    },
    {
     "name": "stdout",
     "output_type": "stream",
     "text": [
      "{'loss': 1.5498, 'grad_norm': 1.7833847999572754, 'learning_rate': 1e-05, 'epoch': 0.47}\n"
     ]
    },
    {
     "name": "stderr",
     "output_type": "stream",
     "text": [
      " 24%|██▎       | 151/642 [00:22<01:12,  6.79it/s]"
     ]
    },
    {
     "name": "stdout",
     "output_type": "stream",
     "text": [
      "{'loss': 1.3916, 'grad_norm': 3.4547619819641113, 'learning_rate': 1.5e-05, 'epoch': 0.7}\n"
     ]
    },
    {
     "name": "stderr",
     "output_type": "stream",
     "text": [
      " 31%|███▏      | 201/642 [00:29<01:02,  7.05it/s]"
     ]
    },
    {
     "name": "stdout",
     "output_type": "stream",
     "text": [
      "{'loss': 1.2654, 'grad_norm': 5.624492645263672, 'learning_rate': 1.9900000000000003e-05, 'epoch': 0.93}\n"
     ]
    },
    {
     "name": "stderr",
     "output_type": "stream",
     "text": [
      " 33%|███▎      | 213/642 [00:31<01:01,  6.93it/s]\n",
      " 33%|███▎      | 214/642 [00:32<01:01,  6.93it/s]"
     ]
    },
    {
     "name": "stdout",
     "output_type": "stream",
     "text": [
      "{'eval_loss': 1.229684829711914, 'eval_accuracy': 0.4718640093786635, 'eval_f1': 0.3904159458184727, 'eval_precision': 0.5279691797951368, 'eval_recall': 0.4718640093786635, 'eval_runtime': 1.8796, 'eval_samples_per_second': 907.644, 'eval_steps_per_second': 7.448, 'epoch': 1.0}\n"
     ]
    },
    {
     "name": "stderr",
     "output_type": "stream",
     "text": [
      " 39%|███▉      | 251/642 [00:41<01:00,  6.51it/s]"
     ]
    },
    {
     "name": "stdout",
     "output_type": "stream",
     "text": [
      "{'loss': 1.1905, 'grad_norm': 5.4651198387146, 'learning_rate': 2.48e-05, 'epoch': 1.17}\n"
     ]
    },
    {
     "name": "stderr",
     "output_type": "stream",
     "text": [
      " 47%|████▋     | 301/642 [00:48<00:50,  6.79it/s]"
     ]
    },
    {
     "name": "stdout",
     "output_type": "stream",
     "text": [
      "{'loss': 1.1339, 'grad_norm': 6.598258018493652, 'learning_rate': 2.98e-05, 'epoch': 1.4}\n"
     ]
    },
    {
     "name": "stderr",
     "output_type": "stream",
     "text": [
      " 55%|█████▍    | 351/642 [00:56<00:46,  6.31it/s]"
     ]
    },
    {
     "name": "stdout",
     "output_type": "stream",
     "text": [
      "{'loss': 1.1508, 'grad_norm': 7.3084187507629395, 'learning_rate': 3.48e-05, 'epoch': 1.64}\n"
     ]
    },
    {
     "name": "stderr",
     "output_type": "stream",
     "text": [
      " 62%|██████▏   | 401/642 [01:04<00:37,  6.47it/s]"
     ]
    },
    {
     "name": "stdout",
     "output_type": "stream",
     "text": [
      "{'loss': 1.1242, 'grad_norm': 7.026981353759766, 'learning_rate': 3.9800000000000005e-05, 'epoch': 1.87}\n"
     ]
    },
    {
     "name": "stderr",
     "output_type": "stream",
     "text": [
      " 67%|██████▋   | 428/642 [01:08<00:30,  7.02it/s]\n",
      " 67%|██████▋   | 428/642 [01:10<00:30,  7.02it/s]"
     ]
    },
    {
     "name": "stdout",
     "output_type": "stream",
     "text": [
      "{'eval_loss': 1.1720116138458252, 'eval_accuracy': 0.4876905041031653, 'eval_f1': 0.4647472998210567, 'eval_precision': 0.5164105292069048, 'eval_recall': 0.4876905041031653, 'eval_runtime': 1.9329, 'eval_samples_per_second': 882.629, 'eval_steps_per_second': 7.243, 'epoch': 2.0}\n"
     ]
    },
    {
     "name": "stderr",
     "output_type": "stream",
     "text": [
      " 70%|███████   | 451/642 [01:16<00:29,  6.47it/s]"
     ]
    },
    {
     "name": "stdout",
     "output_type": "stream",
     "text": [
      "{'loss': 1.0175, 'grad_norm': 6.353063583374023, 'learning_rate': 4.4800000000000005e-05, 'epoch': 2.1}\n"
     ]
    },
    {
     "name": "stderr",
     "output_type": "stream",
     "text": [
      " 78%|███████▊  | 501/642 [01:24<00:21,  6.44it/s]"
     ]
    },
    {
     "name": "stdout",
     "output_type": "stream",
     "text": [
      "{'loss': 0.9477, 'grad_norm': 6.97534704208374, 'learning_rate': 4.9800000000000004e-05, 'epoch': 2.34}\n"
     ]
    },
    {
     "name": "stderr",
     "output_type": "stream",
     "text": [
      " 86%|████████▌ | 551/642 [01:32<00:13,  6.80it/s]"
     ]
    },
    {
     "name": "stdout",
     "output_type": "stream",
     "text": [
      "{'loss': 0.9054, 'grad_norm': 7.318244457244873, 'learning_rate': 3.3098591549295775e-05, 'epoch': 2.57}\n"
     ]
    },
    {
     "name": "stderr",
     "output_type": "stream",
     "text": [
      " 94%|█████████▎| 601/642 [01:39<00:06,  6.63it/s]"
     ]
    },
    {
     "name": "stdout",
     "output_type": "stream",
     "text": [
      "{'loss': 0.9213, 'grad_norm': 8.382917404174805, 'learning_rate': 1.5492957746478872e-05, 'epoch': 2.8}\n"
     ]
    },
    {
     "name": "stderr",
     "output_type": "stream",
     "text": [
      "100%|█████████▉| 641/642 [01:45<00:00,  6.86it/s]\n",
      "100%|██████████| 642/642 [01:47<00:00,  6.86it/s]"
     ]
    },
    {
     "name": "stdout",
     "output_type": "stream",
     "text": [
      "{'eval_loss': 1.2001591920852661, 'eval_accuracy': 0.4894490035169988, 'eval_f1': 0.4866746956910728, 'eval_precision': 0.4875238408327724, 'eval_recall': 0.4894490035169988, 'eval_runtime': 1.9641, 'eval_samples_per_second': 868.58, 'eval_steps_per_second': 7.128, 'epoch': 3.0}\n"
     ]
    },
    {
     "name": "stderr",
     "output_type": "stream",
     "text": [
      "100%|██████████| 642/642 [01:51<00:00,  5.78it/s]\n"
     ]
    },
    {
     "name": "stdout",
     "output_type": "stream",
     "text": [
      "{'train_runtime': 111.1399, 'train_samples_per_second': 184.173, 'train_steps_per_second': 5.777, 'train_loss': 1.1632528394182151, 'epoch': 3.0}\n"
     ]
    },
    {
     "name": "stderr",
     "output_type": "stream",
     "text": [
      "100%|██████████| 14/14 [00:01<00:00,  8.10it/s]\n"
     ]
    },
    {
     "name": "stdout",
     "output_type": "stream",
     "text": [
      "Model: distilbert-base-uncased\n",
      "Eğitim Süresi: 1.91 dakika\n",
      "Değerlendirme Sonuçları: {'eval_loss': 1.2001591920852661, 'eval_accuracy': 0.4894490035169988, 'eval_f1': 0.4866746956910728, 'eval_precision': 0.4875238408327724, 'eval_recall': 0.4894490035169988, 'eval_runtime': 1.8534, 'eval_samples_per_second': 920.479, 'eval_steps_per_second': 7.554, 'epoch': 3.0}\n",
      "Saved model and tokenizer to ./models/distilbert-base-uncased_6c86ce2e\n",
      "\n",
      "--------------------------------------------------\n",
      "Eğitiliyor: roberta-base\n",
      "--------------------------------------------------\n",
      "Created unique directories for roberta-base\n",
      "Using device: cuda\n"
     ]
    },
    {
     "name": "stderr",
     "output_type": "stream",
     "text": [
      "  8%|▊         | 50/642 [18:09<3:33:55, 21.68s/it]"
     ]
    },
    {
     "name": "stdout",
     "output_type": "stream",
     "text": [
      "{'loss': 1.6002, 'grad_norm': 1.39578378200531, 'learning_rate': 5e-06, 'epoch': 0.23}\n"
     ]
    },
    {
     "name": "stderr",
     "output_type": "stream",
     "text": [
      " 16%|█▌        | 100/642 [36:19<3:26:30, 22.86s/it]"
     ]
    },
    {
     "name": "stdout",
     "output_type": "stream",
     "text": [
      "{'loss': 1.5672, 'grad_norm': 2.124962568283081, 'learning_rate': 1e-05, 'epoch': 0.47}\n"
     ]
    },
    {
     "name": "stderr",
     "output_type": "stream",
     "text": [
      " 23%|██▎       | 150/642 [54:05<2:51:26, 20.91s/it]"
     ]
    },
    {
     "name": "stdout",
     "output_type": "stream",
     "text": [
      "{'loss': 1.3996, 'grad_norm': 7.308786392211914, 'learning_rate': 1.48e-05, 'epoch': 0.7}\n"
     ]
    },
    {
     "name": "stderr",
     "output_type": "stream",
     "text": [
      " 31%|███       | 200/642 [1:12:17<2:37:36, 21.40s/it]"
     ]
    },
    {
     "name": "stdout",
     "output_type": "stream",
     "text": [
      "{'loss': 1.2306, 'grad_norm': 8.924633026123047, 'learning_rate': 1.9800000000000004e-05, 'epoch': 0.93}\n"
     ]
    },
    {
     "name": "stderr",
     "output_type": "stream",
     "text": [
      " 33%|███▎      | 214/642 [1:17:05<2:05:00, 17.52s/it]\n",
      " 33%|███▎      | 214/642 [1:21:09<2:05:00, 17.52s/it]"
     ]
    },
    {
     "name": "stdout",
     "output_type": "stream",
     "text": [
      "{'eval_loss': 1.1229132413864136, 'eval_accuracy': 0.5134818288393904, 'eval_f1': 0.497564966579949, 'eval_precision': 0.5112901383279967, 'eval_recall': 0.5134818288393904, 'eval_runtime': 243.8025, 'eval_samples_per_second': 6.997, 'eval_steps_per_second': 0.057, 'epoch': 1.0}\n"
     ]
    },
    {
     "name": "stderr",
     "output_type": "stream",
     "text": [
      " 39%|███▉      | 250/642 [1:34:14<2:20:48, 21.55s/it] "
     ]
    },
    {
     "name": "stdout",
     "output_type": "stream",
     "text": [
      "{'loss': 1.1144, 'grad_norm': 18.24934959411621, 'learning_rate': 2.48e-05, 'epoch': 1.17}\n"
     ]
    },
    {
     "name": "stderr",
     "output_type": "stream",
     "text": [
      " 47%|████▋     | 300/642 [1:46:37<1:20:45, 14.17s/it]"
     ]
    },
    {
     "name": "stdout",
     "output_type": "stream",
     "text": [
      "{'loss': 1.0846, 'grad_norm': 22.761411666870117, 'learning_rate': 2.98e-05, 'epoch': 1.4}\n"
     ]
    },
    {
     "name": "stderr",
     "output_type": "stream",
     "text": [
      " 55%|█████▍    | 350/642 [2:05:56<1:53:40, 23.36s/it]"
     ]
    },
    {
     "name": "stdout",
     "output_type": "stream",
     "text": [
      "{'loss': 1.0965, 'grad_norm': 31.303752899169922, 'learning_rate': 3.48e-05, 'epoch': 1.64}\n"
     ]
    },
    {
     "name": "stderr",
     "output_type": "stream",
     "text": [
      " 62%|██████▏   | 400/642 [2:25:34<1:33:41, 23.23s/it]"
     ]
    },
    {
     "name": "stdout",
     "output_type": "stream",
     "text": [
      "{'loss': 1.06, 'grad_norm': 8.444998741149902, 'learning_rate': 3.9800000000000005e-05, 'epoch': 1.87}\n"
     ]
    },
    {
     "name": "stderr",
     "output_type": "stream",
     "text": [
      " 67%|██████▋   | 428/642 [2:36:10<1:06:56, 18.77s/it]\n",
      " 67%|██████▋   | 428/642 [2:40:25<1:06:56, 18.77s/it]"
     ]
    },
    {
     "name": "stdout",
     "output_type": "stream",
     "text": [
      "{'eval_loss': 1.1936603784561157, 'eval_accuracy': 0.4958968347010551, 'eval_f1': 0.47134987659747946, 'eval_precision': 0.4953612675320214, 'eval_recall': 0.4958968347010551, 'eval_runtime': 255.2912, 'eval_samples_per_second': 6.683, 'eval_steps_per_second': 0.055, 'epoch': 2.0}\n"
     ]
    },
    {
     "name": "stderr",
     "output_type": "stream",
     "text": [
      " 70%|███████   | 450/642 [2:49:09<1:14:13, 23.20s/it]"
     ]
    },
    {
     "name": "stdout",
     "output_type": "stream",
     "text": [
      "{'loss': 1.0461, 'grad_norm': 18.494985580444336, 'learning_rate': 4.4800000000000005e-05, 'epoch': 2.1}\n"
     ]
    },
    {
     "name": "stderr",
     "output_type": "stream",
     "text": [
      " 78%|███████▊  | 500/642 [3:07:44<52:52, 22.34s/it]  "
     ]
    },
    {
     "name": "stdout",
     "output_type": "stream",
     "text": [
      "{'loss': 0.925, 'grad_norm': 10.164314270019531, 'learning_rate': 4.9800000000000004e-05, 'epoch': 2.34}\n"
     ]
    },
    {
     "name": "stderr",
     "output_type": "stream",
     "text": [
      " 86%|████████▌ | 550/642 [3:24:52<32:35, 21.25s/it]"
     ]
    },
    {
     "name": "stdout",
     "output_type": "stream",
     "text": [
      "{'loss': 0.898, 'grad_norm': 27.545520782470703, 'learning_rate': 3.3098591549295775e-05, 'epoch': 2.57}\n"
     ]
    },
    {
     "name": "stderr",
     "output_type": "stream",
     "text": [
      " 93%|█████████▎| 600/642 [3:42:33<14:30, 20.71s/it]"
     ]
    },
    {
     "name": "stdout",
     "output_type": "stream",
     "text": [
      "{'loss': 0.8958, 'grad_norm': 16.315534591674805, 'learning_rate': 1.5492957746478872e-05, 'epoch': 2.8}\n"
     ]
    },
    {
     "name": "stderr",
     "output_type": "stream",
     "text": [
      "100%|██████████| 642/642 [3:57:09<00:00, 17.06s/it]\n",
      "100%|██████████| 642/642 [4:01:09<00:00, 17.06s/it]"
     ]
    },
    {
     "name": "stdout",
     "output_type": "stream",
     "text": [
      "{'eval_loss': 1.0606251955032349, 'eval_accuracy': 0.5504103165298945, 'eval_f1': 0.5450635610936025, 'eval_precision': 0.5474930837218849, 'eval_recall': 0.5504103165298945, 'eval_runtime': 239.8529, 'eval_samples_per_second': 7.113, 'eval_steps_per_second': 0.058, 'epoch': 3.0}\n"
     ]
    },
    {
     "name": "stderr",
     "output_type": "stream",
     "text": [
      "100%|██████████| 642/642 [4:01:16<00:00, 22.55s/it]\n"
     ]
    },
    {
     "name": "stdout",
     "output_type": "stream",
     "text": [
      "{'train_runtime': 14475.985, 'train_samples_per_second': 1.414, 'train_steps_per_second': 0.044, 'train_loss': 1.140469922454929, 'epoch': 3.0}\n"
     ]
    },
    {
     "name": "stderr",
     "output_type": "stream",
     "text": [
      "100%|██████████| 14/14 [03:23<00:00, 14.54s/it]\n"
     ]
    },
    {
     "name": "stdout",
     "output_type": "stream",
     "text": [
      "Model: roberta-base\n",
      "Eğitim Süresi: 241.28 dakika\n",
      "Değerlendirme Sonuçları: {'eval_loss': 1.0606251955032349, 'eval_accuracy': 0.5504103165298945, 'eval_f1': 0.5450635610936025, 'eval_precision': 0.5474930837218849, 'eval_recall': 0.5504103165298945, 'eval_runtime': 220.4295, 'eval_samples_per_second': 7.739, 'eval_steps_per_second': 0.064, 'epoch': 3.0}\n",
      "Saved model and tokenizer to ./models/roberta-base_d77fd97f\n",
      "New best model: roberta-base\n",
      "\n",
      "--------------------------------------------------\n",
      "Eğitiliyor: albert-base-v2\n",
      "--------------------------------------------------\n",
      "Created unique directories for albert-base-v2\n",
      "Using device: cuda\n"
     ]
    },
    {
     "name": "stderr",
     "output_type": "stream",
     "text": [
      "  8%|▊         | 50/642 [11:54<2:16:30, 13.84s/it]"
     ]
    },
    {
     "name": "stdout",
     "output_type": "stream",
     "text": [
      "{'loss': 1.592, 'grad_norm': 19.20388412475586, 'learning_rate': 4.9000000000000005e-06, 'epoch': 0.23}\n"
     ]
    },
    {
     "name": "stderr",
     "output_type": "stream",
     "text": [
      " 16%|█▌        | 100/642 [23:15<2:02:03, 13.51s/it]"
     ]
    },
    {
     "name": "stdout",
     "output_type": "stream",
     "text": [
      "{'loss': 1.4998, 'grad_norm': 17.053232192993164, 'learning_rate': 9.800000000000001e-06, 'epoch': 0.47}\n"
     ]
    },
    {
     "name": "stderr",
     "output_type": "stream",
     "text": [
      " 23%|██▎       | 150/642 [34:37<1:51:33, 13.61s/it]"
     ]
    },
    {
     "name": "stdout",
     "output_type": "stream",
     "text": [
      "{'loss': 1.3027, 'grad_norm': 13.470138549804688, 'learning_rate': 1.48e-05, 'epoch': 0.7}\n"
     ]
    },
    {
     "name": "stderr",
     "output_type": "stream",
     "text": [
      " 31%|███       | 200/642 [45:57<1:39:52, 13.56s/it]"
     ]
    },
    {
     "name": "stdout",
     "output_type": "stream",
     "text": [
      "{'loss': 1.2456, 'grad_norm': 16.9766788482666, 'learning_rate': 1.97e-05, 'epoch': 0.93}\n"
     ]
    },
    {
     "name": "stderr",
     "output_type": "stream",
     "text": [
      " 33%|███▎      | 214/642 [48:56<1:11:47, 10.06s/it]c:\\Users\\osman\\OneDrive - Harran Üniversitesi\\Belgeler\\Movie-Recommendation-System\\venv\\Lib\\site-packages\\sklearn\\metrics\\_classification.py:1565: UndefinedMetricWarning: Precision is ill-defined and being set to 0.0 in labels with no predicted samples. Use `zero_division` parameter to control this behavior.\n",
      "  _warn_prf(average, modifier, f\"{metric.capitalize()} is\", len(result))\n",
      "                                                   \n",
      " 33%|███▎      | 214/642 [49:42<1:11:47, 10.06s/it]"
     ]
    },
    {
     "name": "stdout",
     "output_type": "stream",
     "text": [
      "{'eval_loss': 1.2306748628616333, 'eval_accuracy': 0.45545134818288396, 'eval_f1': 0.4207007940076455, 'eval_precision': 0.3934069773492816, 'eval_recall': 0.45545134818288396, 'eval_runtime': 46.1809, 'eval_samples_per_second': 36.942, 'eval_steps_per_second': 0.303, 'epoch': 1.0}\n"
     ]
    },
    {
     "name": "stderr",
     "output_type": "stream",
     "text": [
      " 39%|███▉      | 250/642 [1:13:48<4:26:32, 40.80s/it]"
     ]
    },
    {
     "name": "stdout",
     "output_type": "stream",
     "text": [
      "{'loss': 1.2328, 'grad_norm': 20.9260196685791, 'learning_rate': 2.47e-05, 'epoch': 1.17}\n"
     ]
    },
    {
     "name": "stderr",
     "output_type": "stream",
     "text": [
      " 47%|████▋     | 300/642 [1:44:47<3:04:42, 32.40s/it]"
     ]
    },
    {
     "name": "stdout",
     "output_type": "stream",
     "text": [
      "{'loss': 1.1641, 'grad_norm': 24.137117385864258, 'learning_rate': 2.97e-05, 'epoch': 1.4}\n"
     ]
    },
    {
     "name": "stderr",
     "output_type": "stream",
     "text": [
      " 55%|█████▍    | 350/642 [2:11:25<2:39:48, 32.84s/it]"
     ]
    },
    {
     "name": "stdout",
     "output_type": "stream",
     "text": [
      "{'loss': 1.1674, 'grad_norm': 34.62971496582031, 'learning_rate': 3.4699999999999996e-05, 'epoch': 1.64}\n"
     ]
    },
    {
     "name": "stderr",
     "output_type": "stream",
     "text": [
      " 62%|██████▏   | 400/642 [2:38:11<2:08:55, 31.97s/it]"
     ]
    },
    {
     "name": "stdout",
     "output_type": "stream",
     "text": [
      "{'loss': 1.1542, 'grad_norm': 190.27984619140625, 'learning_rate': 3.97e-05, 'epoch': 1.87}\n"
     ]
    },
    {
     "name": "stderr",
     "output_type": "stream",
     "text": [
      " 67%|██████▋   | 428/642 [2:52:45<1:24:22, 23.66s/it]c:\\Users\\osman\\OneDrive - Harran Üniversitesi\\Belgeler\\Movie-Recommendation-System\\venv\\Lib\\site-packages\\sklearn\\metrics\\_classification.py:1565: UndefinedMetricWarning: Precision is ill-defined and being set to 0.0 in labels with no predicted samples. Use `zero_division` parameter to control this behavior.\n",
      "  _warn_prf(average, modifier, f\"{metric.capitalize()} is\", len(result))\n",
      "                                                     \n",
      " 67%|██████▋   | 428/642 [2:53:23<1:24:22, 23.66s/it]"
     ]
    },
    {
     "name": "stdout",
     "output_type": "stream",
     "text": [
      "{'eval_loss': 1.1902849674224854, 'eval_accuracy': 0.4525205158264947, 'eval_f1': 0.4031904505964841, 'eval_precision': 0.43962987412634297, 'eval_recall': 0.4525205158264947, 'eval_runtime': 37.9876, 'eval_samples_per_second': 44.909, 'eval_steps_per_second': 0.369, 'epoch': 2.0}\n"
     ]
    },
    {
     "name": "stderr",
     "output_type": "stream",
     "text": [
      " 70%|███████   | 450/642 [2:58:46<23:29,  7.34s/it]  "
     ]
    },
    {
     "name": "stdout",
     "output_type": "stream",
     "text": [
      "{'loss': 1.1378, 'grad_norm': 30.809118270874023, 'learning_rate': 4.47e-05, 'epoch': 2.1}\n"
     ]
    },
    {
     "name": "stderr",
     "output_type": "stream",
     "text": [
      " 78%|███████▊  | 500/642 [3:30:39<1:39:18, 41.96s/it]"
     ]
    },
    {
     "name": "stdout",
     "output_type": "stream",
     "text": [
      "{'loss': 1.0887, 'grad_norm': 31.703462600708008, 'learning_rate': 4.97e-05, 'epoch': 2.34}\n"
     ]
    },
    {
     "name": "stderr",
     "output_type": "stream",
     "text": [
      " 86%|████████▌ | 550/642 [4:05:50<1:05:40, 42.84s/it]"
     ]
    },
    {
     "name": "stdout",
     "output_type": "stream",
     "text": [
      "{'loss': 1.0847, 'grad_norm': 57.2477912902832, 'learning_rate': 3.345070422535211e-05, 'epoch': 2.57}\n"
     ]
    },
    {
     "name": "stderr",
     "output_type": "stream",
     "text": [
      " 93%|█████████▎| 600/642 [4:41:14<29:57, 42.79s/it]  "
     ]
    },
    {
     "name": "stdout",
     "output_type": "stream",
     "text": [
      "{'loss': 1.1227, 'grad_norm': 3.1305792331695557, 'learning_rate': 1.5845070422535213e-05, 'epoch': 2.8}\n"
     ]
    },
    {
     "name": "stderr",
     "output_type": "stream",
     "text": [
      "                                                   \n",
      "100%|██████████| 642/642 [5:11:30<00:00, 31.59s/it]"
     ]
    },
    {
     "name": "stdout",
     "output_type": "stream",
     "text": [
      "{'eval_loss': 1.1602421998977661, 'eval_accuracy': 0.5005861664712778, 'eval_f1': 0.48368885447920124, 'eval_precision': 0.48685146409092506, 'eval_recall': 0.5005861664712778, 'eval_runtime': 49.4057, 'eval_samples_per_second': 34.53, 'eval_steps_per_second': 0.283, 'epoch': 3.0}\n"
     ]
    },
    {
     "name": "stderr",
     "output_type": "stream",
     "text": [
      "100%|██████████| 642/642 [5:11:31<00:00, 29.11s/it]\n"
     ]
    },
    {
     "name": "stdout",
     "output_type": "stream",
     "text": [
      "{'train_runtime': 18691.0581, 'train_samples_per_second': 1.095, 'train_steps_per_second': 0.034, 'train_loss': 1.2413693425068604, 'epoch': 3.0}\n"
     ]
    },
    {
     "name": "stderr",
     "output_type": "stream",
     "text": [
      "100%|██████████| 14/14 [00:44<00:00,  3.21s/it]\n"
     ]
    },
    {
     "name": "stdout",
     "output_type": "stream",
     "text": [
      "Model: albert-base-v2\n",
      "Eğitim Süresi: 311.57 dakika\n",
      "Değerlendirme Sonuçları: {'eval_loss': 1.1602421998977661, 'eval_accuracy': 0.5005861664712778, 'eval_f1': 0.48368885447920124, 'eval_precision': 0.48685146409092506, 'eval_recall': 0.5005861664712778, 'eval_runtime': 47.875, 'eval_samples_per_second': 35.634, 'eval_steps_per_second': 0.292, 'epoch': 3.0}\n",
      "Saved model and tokenizer to ./models/albert-base-v2_31bbbf13\n"
     ]
    }
   ],
   "source": [
    "import os\n",
    "import shutil\n",
    "import uuid\n",
    "import time\n",
    "\n",
    "# Completely remove the problematic logs directory and recreate it\n",
    "if os.path.exists('./logs'):\n",
    "    try:\n",
    "        shutil.rmtree('./logs')\n",
    "        print(\"Removed existing logs directory\")\n",
    "    except Exception as e:\n",
    "        print(f\"Warning: Could not remove logs directory: {e}\")\n",
    "        \n",
    "# Create fresh directories\n",
    "os.makedirs('./logs', exist_ok=True)\n",
    "os.makedirs('./models', exist_ok=True)\n",
    "os.makedirs('./results', exist_ok=True)\n",
    "os.makedirs('./best_model', exist_ok=True)\n",
    "\n",
    "print(\"Created fresh directories\")\n",
    "\n",
    "# Store results\n",
    "results = []\n",
    "\n",
    "for model_info in models:\n",
    "    # After each model training\n",
    "    if torch.cuda.is_available():\n",
    "        torch.cuda.empty_cache()\n",
    "    print(f\"\\n{'-'*50}\\nEğitiliyor: {model_info['name']}\\n{'-'*50}\")\n",
    "    \n",
    "    # Create unique directories for this model run\n",
    "    unique_id = str(uuid.uuid4())[:8]\n",
    "    model_dir = f\"./models/{model_info['name']}_{unique_id}\"\n",
    "    result_dir = f\"./results/{model_info['name']}_{unique_id}\"\n",
    "    \n",
    "    os.makedirs(model_dir, exist_ok=True)\n",
    "    os.makedirs(result_dir, exist_ok=True)\n",
    "    \n",
    "    print(f\"Created unique directories for {model_info['name']}\")\n",
    "    \n",
    "    # Add a try-except block to handle potential errors during training\n",
    "    try:\n",
    "        # Modified train_model call with the unique directories\n",
    "        result = train_model(\n",
    "            model_name=model_info['name'],\n",
    "            tokenizer=model_info['tokenizer'],\n",
    "            model=model_info['model'],\n",
    "            train_texts=train_texts,\n",
    "            val_texts=val_texts,\n",
    "            train_labels=train_labels,\n",
    "            val_labels=val_labels,\n",
    "            epochs=3,\n",
    "            batch_size=4 if model_info['name'] == 'bert-large-uncased' else 32, \n",
    "        )\n",
    "        \n",
    "        results.append(result)\n",
    "        \n",
    "        print(f\"Model: {result['model_name']}\")\n",
    "        print(f\"Eğitim Süresi: {result['training_time'] / 60:.2f} dakika\")\n",
    "        print(f\"Değerlendirme Sonuçları: {result['eval_results']}\")\n",
    "       \n",
    "        # Save model and tokenizer\n",
    "        result['model'].save_pretrained(model_dir)\n",
    "        result['tokenizer'].save_pretrained(model_dir)\n",
    "        print(f\"Saved model and tokenizer to {model_dir}\")\n",
    "        \n",
    "        # If this is the best model so far, save it as best_model\n",
    "        if not results or result['eval_results']['eval_accuracy'] > max([r['eval_results']['eval_accuracy'] for r in results[:-1]], default=0):\n",
    "            print(f\"New best model: {result['model_name']}\")\n",
    "            if os.path.exists('./best_model'):\n",
    "                shutil.rmtree('./best_model')\n",
    "            os.makedirs('./best_model', exist_ok=True)\n",
    "            result['model'].save_pretrained('./best_model')\n",
    "            result['tokenizer'].save_pretrained('./best_model')\n",
    "        torch.cuda.empty_cache()\n",
    "    # After each model training\n",
    "    \n",
    "    except Exception as e:\n",
    "        print(f\"Error training model {model_info['name']}: {str(e)}\")\n",
    "        print(\"Continuing with next model...\")\n",
    "        continue"
   ]
  },
  {
   "cell_type": "markdown",
   "metadata": {},
   "source": [
    "## 6. Sonuçların Analizi"
   ]
  },
  {
   "cell_type": "code",
   "execution_count": 15,
   "metadata": {},
   "outputs": [
    {
     "data": {
      "text/html": [
       "<div>\n",
       "<style scoped>\n",
       "    .dataframe tbody tr th:only-of-type {\n",
       "        vertical-align: middle;\n",
       "    }\n",
       "\n",
       "    .dataframe tbody tr th {\n",
       "        vertical-align: top;\n",
       "    }\n",
       "\n",
       "    .dataframe thead th {\n",
       "        text-align: right;\n",
       "    }\n",
       "</style>\n",
       "<table border=\"1\" class=\"dataframe\">\n",
       "  <thead>\n",
       "    <tr style=\"text-align: right;\">\n",
       "      <th></th>\n",
       "      <th>Model</th>\n",
       "      <th>Eğitim Süresi (dk)</th>\n",
       "      <th>Doğruluk</th>\n",
       "      <th>F1 Skoru</th>\n",
       "      <th>Kesinlik</th>\n",
       "      <th>Duyarlılık</th>\n",
       "    </tr>\n",
       "  </thead>\n",
       "  <tbody>\n",
       "    <tr>\n",
       "      <th>0</th>\n",
       "      <td>bert-base-uncased</td>\n",
       "      <td>3.220058</td>\n",
       "      <td>0.511137</td>\n",
       "      <td>0.508419</td>\n",
       "      <td>0.506653</td>\n",
       "      <td>0.511137</td>\n",
       "    </tr>\n",
       "    <tr>\n",
       "      <th>1</th>\n",
       "      <td>bert-large-uncased</td>\n",
       "      <td>719.516609</td>\n",
       "      <td>0.271981</td>\n",
       "      <td>0.116313</td>\n",
       "      <td>0.073974</td>\n",
       "      <td>0.271981</td>\n",
       "    </tr>\n",
       "    <tr>\n",
       "      <th>2</th>\n",
       "      <td>distilbert-base-uncased</td>\n",
       "      <td>1.908812</td>\n",
       "      <td>0.489449</td>\n",
       "      <td>0.486675</td>\n",
       "      <td>0.487524</td>\n",
       "      <td>0.489449</td>\n",
       "    </tr>\n",
       "    <tr>\n",
       "      <th>3</th>\n",
       "      <td>roberta-base</td>\n",
       "      <td>241.279482</td>\n",
       "      <td>0.550410</td>\n",
       "      <td>0.545064</td>\n",
       "      <td>0.547493</td>\n",
       "      <td>0.550410</td>\n",
       "    </tr>\n",
       "    <tr>\n",
       "      <th>4</th>\n",
       "      <td>albert-base-v2</td>\n",
       "      <td>311.568299</td>\n",
       "      <td>0.500586</td>\n",
       "      <td>0.483689</td>\n",
       "      <td>0.486851</td>\n",
       "      <td>0.500586</td>\n",
       "    </tr>\n",
       "  </tbody>\n",
       "</table>\n",
       "</div>"
      ],
      "text/plain": [
       "                     Model  Eğitim Süresi (dk)  Doğruluk  F1 Skoru  Kesinlik  \\\n",
       "0        bert-base-uncased            3.220058  0.511137  0.508419  0.506653   \n",
       "1       bert-large-uncased          719.516609  0.271981  0.116313  0.073974   \n",
       "2  distilbert-base-uncased            1.908812  0.489449  0.486675  0.487524   \n",
       "3             roberta-base          241.279482  0.550410  0.545064  0.547493   \n",
       "4           albert-base-v2          311.568299  0.500586  0.483689  0.486851   \n",
       "\n",
       "   Duyarlılık  \n",
       "0    0.511137  \n",
       "1    0.271981  \n",
       "2    0.489449  \n",
       "3    0.550410  \n",
       "4    0.500586  "
      ]
     },
     "execution_count": 15,
     "metadata": {},
     "output_type": "execute_result"
    }
   ],
   "source": [
    "# Sonuçları DataFrame'e dönüştür\n",
    "results_df = pd.DataFrame([\n",
    "    {\n",
    "        'Model': r['model_name'],\n",
    "        'Eğitim Süresi (dk)': r['training_time'] / 60,\n",
    "        'Doğruluk': r['eval_results']['eval_accuracy'],\n",
    "        'F1 Skoru': r['eval_results']['eval_f1'],\n",
    "        'Kesinlik': r['eval_results']['eval_precision'],\n",
    "        'Duyarlılık': r['eval_results']['eval_recall']\n",
    "    } for r in results\n",
    "])\n",
    "\n",
    "results_df"
   ]
  },
  {
   "cell_type": "code",
   "execution_count": 16,
   "metadata": {},
   "outputs": [
    {
     "data": {
      "image/png": "[encoded data removed]",
      "text/plain": [
       "<Figure size 1200x600 with 1 Axes>"
      ]
     },
     "metadata": {},
     "output_type": "display_data"
    }
   ],
   "source": [
    "# Doğruluk ve F1 skorlarını görselleştir\n",
    "plt.figure(figsize=(12, 6))\n",
    "\n",
    "x = np.arange(len(results_df['Model']))\n",
    "width = 0.35\n",
    "\n",
    "plt.bar(x - width/2, results_df['Doğruluk'], width, label='Doğruluk')\n",
    "plt.bar(x + width/2, results_df['F1 Skoru'], width, label='F1 Skoru')\n",
    "\n",
    "plt.xlabel('Model')\n",
    "plt.ylabel('Skor')\n",
    "plt.title('Modellerin Doğruluk ve F1 Skorları')\n",
    "plt.xticks(x, results_df['Model'], rotation=45)\n",
    "plt.legend()\n",
    "plt.tight_layout()\n",
    "plt.show()"
   ]
  },
  {
   "cell_type": "code",
   "execution_count": 17,
   "metadata": {},
   "outputs": [
    {
     "data": {
      "image/png": "[encoded data removed]",
      "text/plain": [
       "<Figure size 1200x600 with 1 Axes>"
      ]
     },
     "metadata": {},
     "output_type": "display_data"
    }
   ],
   "source": [
    "# Eğitim süresini görselleştir\n",
    "plt.figure(figsize=(12, 6))\n",
    "plt.bar(results_df['Model'], results_df['Eğitim Süresi (dk)'])\n",
    "plt.xlabel('Model')\n",
    "plt.ylabel('Eğitim Süresi (dakika)')\n",
    "plt.title('Modellerin Eğitim Süreleri')\n",
    "plt.xticks(rotation=45)\n",
    "plt.tight_layout()\n",
    "plt.show()"
   ]
  },
  {
   "cell_type": "code",
   "execution_count": 18,
   "metadata": {},
   "outputs": [
    {
     "data": {
      "image/png": "[encoded data removed]",
      "text/plain": [
       "<Figure size 1200x600 with 1 Axes>"
      ]
     },
     "metadata": {},
     "output_type": "display_data"
    }
   ],
   "source": [
    "# Performans/Süre oranını hesapla ve görselleştir\n",
    "results_df['Performans/Süre'] = results_df['F1 Skoru'] / results_df['Eğitim Süresi (dk)']\n",
    "\n",
    "plt.figure(figsize=(12, 6))\n",
    "plt.bar(results_df['Model'], results_df['Performans/Süre'])\n",
    "plt.xlabel('Model')\n",
    "plt.ylabel('F1 Skoru / Eğitim Süresi')\n",
    "plt.title('Modellerin Performans/Süre Oranı')\n",
    "plt.xticks(rotation=45)\n",
    "plt.tight_layout()\n",
    "plt.show()"
   ]
  },
  {
   "cell_type": "markdown",
   "metadata": {},
   "source": [
    "## 7. Sonuçların Yorumlanması"
   ]
  },
  {
   "cell_type": "markdown",
   "metadata": {},
   "source": [
    "# Model Performans Değerlendirmesi\n",
    "\n",
    "## Bulgular ve Yorumlar\n",
    "\n",
    "| Model | Eğitim Süresi (dk) | Doğruluk | F1 Skoru | Kesinlik | Duyarlılık |\n",
    "|-------|---------------------|-----------|----------|-----------|-------------|\n",
    "| 0 - bert-base-uncased         | 3.22      | 0.511    | 0.508    | 0.507     | 0.511     |\n",
    "| 1 - bert-large-uncased        | 719.52    | 0.272    | 0.116    | 0.074     | 0.272     |\n",
    "| 2 - distilbert-base-uncased   | 1.91      | 0.489    | 0.487    | 0.488     | 0.489     |\n",
    "| 3 - roberta-base              | 241.28    | 0.550    | 0.545    | 0.547     | 0.550     |\n",
    "| 4 - albert-base-v2            | 311.57    | 0.501    | 0.484    | 0.487     | 0.501     |\n",
    "\n",
    "---\n",
    "\n",
    "## 1. Model Performansı Karşılaştırması\n",
    "\n",
    "- **En yüksek doğruluk ve F1 skoruna sahip model**:  \n",
    "  **RoBERTa-base** modeli, doğruluk (%55.0) ve F1 skoru (%54.5) ile en iyi performansı göstermiştir.\n",
    "\n",
    "- **En düşük performans gösteren model**:  \n",
    "  **BERT-large-uncased**, hem doğruluk (%27.2) hem de F1 skoru (%11.6) açısından en düşük performansı sergilemiştir.\n",
    "\n",
    "- **Büyük modeller (BERT-Large) ile küçük modeller (DistilBERT) arasındaki performans farkı**:  \n",
    "  Beklenenin aksine, **DistilBERT**, çok daha kısa sürede eğitilmesine rağmen **BERT-Large**’dan **çok daha yüksek** doğruluk ve F1 skoru elde etmiştir. Bu durum, her zaman daha büyük modellerin daha iyi sonuçlar vermediğini göstermektedir.\n",
    "\n",
    "---\n",
    "\n",
    "## 2. Eğitim Süresi Karşılaştırması\n",
    "\n",
    "- **En hızlı eğitilen model**:  \n",
    "  **DistilBERT**, yalnızca **1.91 dakika** ile en hızlı eğitilen modeldir.\n",
    "\n",
    "- **En yavaş eğitilen model**:  \n",
    "  **BERT-Large**, **719.52 dakika** ile açık ara en uzun eğitim süresine sahiptir.\n",
    "\n",
    "- **Model boyutu ile eğitim süresi arasındaki ilişki**:  \n",
    "  Genel olarak, daha büyük modellerin (örn. BERT-Large) eğitim süresi daha uzundur. Ancak bu uzun süre, her zaman daha iyi performans anlamına gelmemektedir.\n",
    "\n",
    "---\n",
    "\n",
    "## 3. Performans/Süre Oranı\n",
    "\n",
    "- **En verimli model (performans/süre oranına göre)**:  \n",
    "  **DistilBERT**, düşük eğitim süresine karşılık oldukça iyi performans sunmaktadır. Eğitim süresi başına F1 skoru açısından en verimli modeldir.\n",
    "\n",
    "- **Pratik uygulamalar için en uygun model**:  \n",
    "  **RoBERTa-base**, hem doğruluk hem de F1 skorunda en yüksek değere sahip olması ve orta düzey eğitim süresiyle **pratik uygulamalar** için dengeli bir tercihtir.\n",
    "\n",
    "---\n",
    "\n",
    "## 4. Genel Değerlendirme\n",
    "\n",
    "- **Duygu analizi görevi için en uygun model seçimi**:  \n",
    "  **RoBERTa-base**, en yüksek başarı oranları ile duygu analizi için en uygun modeldir.\n",
    "\n",
    "- **Kaynak kısıtlaması olan ortamlar için öneriler**:  \n",
    "  **DistilBERT**, düşük donanım gereksinimi, kısa eğitim süresi ve tatmin edici performansı ile kaynak kısıtlı ortamlarda tercih edilmelidir.\n",
    "\n",
    "- **İleri çalışmalar için öneriler**:\n",
    "  - Hiperparametre optimizasyonu yapılmamışsa tüm modeller için yeniden ayarlama yapılmalı.\n",
    "  - RoBERTa ve DistilBERT’in farklı veri ön işleme teknikleri ile test edilmesi faydalı olabilir.\n",
    "  - Ensembled (birleştirilmiş) modeller veya model distilasyonu ile performans/arttırılmış verimlilik araştırılabilir.\n",
    "  - Veri kümesi dengesizse, yeniden örnekleme veya sınıf ağırlıklandırma yöntemleri değerlendirilmelidir.\n"
   ]
  }
 ],
 "metadata": {
  "kernelspec": {
   "display_name": "venv",
   "language": "python",
   "name": "python3"
  },
  "language_info": {
   "codemirror_mode": {
    "name": "ipython",
    "version": 3
   },
   "file_extension": ".py",
   "mimetype": "text/x-python",
   "name": "python",
   "nbconvert_exporter": "python",
   "pygments_lexer": "ipython3",
   "version": "3.11.2"
  }
 },
 "nbformat": 4,
 "nbformat_minor": 2
}
