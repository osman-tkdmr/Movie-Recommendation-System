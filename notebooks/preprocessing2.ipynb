{
 "cells": [
  {
   "cell_type": "markdown",
   "metadata": {},
   "source": [
    "# TMDB Data Preprocessing"
   ]
  },
  {
   "cell_type": "markdown",
   "metadata": {},
   "source": [
    "## Import Requiremets"
   ]
  },
  {
   "cell_type": "markdown",
   "metadata": {},
   "source": [
    "#### Libraries"
   ]
  },
  {
   "cell_type": "code",
   "execution_count": 1,
   "metadata": {},
   "outputs": [
    {
     "name": "stderr",
     "output_type": "stream",
     "text": [
      "c:\\Users\\osman\\.conda\\envs\\DataScience\\Lib\\site-packages\\tqdm\\auto.py:21: TqdmWarning: IProgress not found. Please update jupyter and ipywidgets. See https://ipywidgets.readthedocs.io/en/stable/user_install.html\n",
      "  from .autonotebook import tqdm as notebook_tqdm\n"
     ]
    }
   ],
   "source": [
    "import os\n",
    "import shutil\n",
    "from kagglehub import dataset_download\n",
    "import subprocess\n",
    "\n",
    "import numpy as np\n",
    "import pandas as pd\n",
    "from sklearn.pipeline import Pipeline\n",
    "from sklearn.decomposition import TruncatedSVD\n",
    "from sklearn.model_selection import GridSearchCV\n",
    "from sklearn.metrics import classification_report\n",
    "from sklearn.linear_model import LogisticRegression\n",
    "from sklearn.model_selection import train_test_split\n",
    "from sklearn.preprocessing import MultiLabelBinarizer\n",
    "from sklearn.multioutput import MultiOutputClassifier\n",
    "from sklearn.feature_extraction.text import TfidfVectorizer"
   ]
  },
  {
   "cell_type": "markdown",
   "metadata": {},
   "source": [
    "#### Download Dataset"
   ]
  },
  {
   "cell_type": "code",
   "execution_count": 2,
   "metadata": {},
   "outputs": [
    {
     "name": "stdout",
     "output_type": "stream",
     "text": [
      "Moved all files from C:\\Users\\osman\\.cache\\kagglehub\\datasets\\ursmaheshj\\iso-639-1-language-codes\\versions\\3 to ../data/raw/\n",
      "Moved all files from C:\\Users\\osman\\.cache\\kagglehub\\datasets\\ashirwadsangwan\\imdb-dataset\\versions\\817 to ../data/raw/\n",
      "Moved all files from C:\\Users\\osman\\.cache\\kagglehub\\datasets\\asaniczka\\tmdb-movies-dataset-2023-930k-movies\\versions\\444 to ../data/raw/\n"
     ]
    }
   ],
   "source": [
    "# List of dataset paths on Kaggle\n",
    "paths = [\n",
    "    \"ursmaheshj/iso-639-1-language-codes\",\n",
    "    \"ashirwadsangwan/imdb-dataset\",\n",
    "    \"asaniczka/tmdb-movies-dataset-2023-930k-movies\"\n",
    "]\n",
    "\n",
    "# Destination path where datasets will be stored\n",
    "destination_path = \"../data/raw/\"\n",
    "\n",
    "# Ensure the destination directory exists\n",
    "os.makedirs(destination_path, exist_ok=True)\n",
    "\n",
    "for path in paths:\n",
    "    # Download the dataset\n",
    "    source = dataset_download(path)\n",
    "    \n",
    "    # Move files or directories to the destination\n",
    "    if os.path.isdir(source):\n",
    "        # Move all files in the directory\n",
    "        for filename in os.listdir(source):\n",
    "            file_path = os.path.join(source, filename)\n",
    "            dest_file_path = os.path.join(destination_path, filename)\n",
    "            # Overwrite if file exists\n",
    "            if os.path.exists(dest_file_path):\n",
    "                os.remove(dest_file_path)\n",
    "            shutil.move(file_path, destination_path)\n",
    "        print(f\"Moved all files from {source} to {destination_path}\")\n",
    "    else:\n",
    "        # Move a single file\n",
    "        dest_file_path = os.path.join(destination_path, os.path.basename(source))\n",
    "        # Overwrite if file exists\n",
    "        if os.path.exists(dest_file_path):\n",
    "            os.remove(dest_file_path)\n",
    "        shutil.move(source, destination_path)\n",
    "        print(f\"Moved {source} to {destination_path}\")"
   ]
  },
  {
   "cell_type": "markdown",
   "metadata": {},
   "source": [
    "## Exploratory Data Analysis (EDA)"
   ]
  },
  {
   "cell_type": "code",
   "execution_count": 3,
   "metadata": {},
   "outputs": [],
   "source": [
    "data = pd.read_csv(\"../data/raw/TMDB_movie_dataset_v11.csv\")"
   ]
  },
  {
   "cell_type": "code",
   "execution_count": 4,
   "metadata": {},
   "outputs": [
    {
     "name": "stdout",
     "output_type": "stream",
     "text": [
      "<class 'pandas.core.frame.DataFrame'>\n",
      "RangeIndex: 1157425 entries, 0 to 1157424\n",
      "Data columns (total 24 columns):\n",
      " #   Column                Non-Null Count    Dtype  \n",
      "---  ------                --------------    -----  \n",
      " 0   id                    1157425 non-null  int64  \n",
      " 1   title                 1157412 non-null  object \n",
      " 2   vote_average          1157425 non-null  float64\n",
      " 3   vote_count            1157425 non-null  int64  \n",
      " 4   status                1157425 non-null  object \n",
      " 5   release_date          961571 non-null   object \n",
      " 6   revenue               1157425 non-null  int64  \n",
      " 7   runtime               1157425 non-null  int64  \n",
      " 8   adult                 1157425 non-null  bool   \n",
      " 9   backdrop_path         305480 non-null   object \n",
      " 10  budget                1157425 non-null  int64  \n",
      " 11  homepage              122170 non-null   object \n",
      " 12  imdb_id               607691 non-null   object \n",
      " 13  original_language     1157425 non-null  object \n",
      " 14  original_title        1157412 non-null  object \n",
      " 15  overview              919734 non-null   object \n",
      " 16  popularity            1157425 non-null  float64\n",
      " 17  poster_path           787986 non-null   object \n",
      " 18  tagline               162242 non-null   object \n",
      " 19  genres                689656 non-null   object \n",
      " 20  production_companies  520263 non-null   object \n",
      " 21  production_countries  640433 non-null   object \n",
      " 22  spoken_languages      660302 non-null   object \n",
      " 23  keywords              311280 non-null   object \n",
      "dtypes: bool(1), float64(2), int64(5), object(16)\n",
      "memory usage: 204.2+ MB\n"
     ]
    }
   ],
   "source": [
    "data.info()"
   ]
  },
  {
   "cell_type": "code",
   "execution_count": 5,
   "metadata": {},
   "outputs": [
    {
     "data": {
      "text/html": [
       "<div>\n",
       "<style scoped>\n",
       "    .dataframe tbody tr th:only-of-type {\n",
       "        vertical-align: middle;\n",
       "    }\n",
       "\n",
       "    .dataframe tbody tr th {\n",
       "        vertical-align: top;\n",
       "    }\n",
       "\n",
       "    .dataframe thead th {\n",
       "        text-align: right;\n",
       "    }\n",
       "</style>\n",
       "<table border=\"1\" class=\"dataframe\">\n",
       "  <thead>\n",
       "    <tr style=\"text-align: right;\">\n",
       "      <th></th>\n",
       "      <th>count</th>\n",
       "      <th>mean</th>\n",
       "      <th>std</th>\n",
       "      <th>min</th>\n",
       "      <th>25%</th>\n",
       "      <th>50%</th>\n",
       "      <th>75%</th>\n",
       "      <th>max</th>\n",
       "    </tr>\n",
       "  </thead>\n",
       "  <tbody>\n",
       "    <tr>\n",
       "      <th>id</th>\n",
       "      <td>1157425.0</td>\n",
       "      <td>752508.680656</td>\n",
       "      <td>4.019883e+05</td>\n",
       "      <td>2.0</td>\n",
       "      <td>417128.0</td>\n",
       "      <td>758132.0</td>\n",
       "      <td>1110380.000</td>\n",
       "      <td>1.413208e+06</td>\n",
       "    </tr>\n",
       "    <tr>\n",
       "      <th>vote_average</th>\n",
       "      <td>1157425.0</td>\n",
       "      <td>1.850443</td>\n",
       "      <td>3.008217e+00</td>\n",
       "      <td>0.0</td>\n",
       "      <td>0.0</td>\n",
       "      <td>0.0</td>\n",
       "      <td>4.600</td>\n",
       "      <td>1.000000e+01</td>\n",
       "    </tr>\n",
       "    <tr>\n",
       "      <th>vote_count</th>\n",
       "      <td>1157425.0</td>\n",
       "      <td>18.532126</td>\n",
       "      <td>3.156474e+02</td>\n",
       "      <td>0.0</td>\n",
       "      <td>0.0</td>\n",
       "      <td>0.0</td>\n",
       "      <td>1.000</td>\n",
       "      <td>3.449500e+04</td>\n",
       "    </tr>\n",
       "    <tr>\n",
       "      <th>revenue</th>\n",
       "      <td>1157425.0</td>\n",
       "      <td>690134.044259</td>\n",
       "      <td>1.853782e+07</td>\n",
       "      <td>-12.0</td>\n",
       "      <td>0.0</td>\n",
       "      <td>0.0</td>\n",
       "      <td>0.000</td>\n",
       "      <td>5.000000e+09</td>\n",
       "    </tr>\n",
       "    <tr>\n",
       "      <th>runtime</th>\n",
       "      <td>1157425.0</td>\n",
       "      <td>47.456232</td>\n",
       "      <td>6.165602e+01</td>\n",
       "      <td>-28.0</td>\n",
       "      <td>0.0</td>\n",
       "      <td>22.0</td>\n",
       "      <td>88.000</td>\n",
       "      <td>1.440000e+04</td>\n",
       "    </tr>\n",
       "    <tr>\n",
       "      <th>budget</th>\n",
       "      <td>1157425.0</td>\n",
       "      <td>265713.816114</td>\n",
       "      <td>5.076877e+06</td>\n",
       "      <td>0.0</td>\n",
       "      <td>0.0</td>\n",
       "      <td>0.0</td>\n",
       "      <td>0.000</td>\n",
       "      <td>1.000000e+09</td>\n",
       "    </tr>\n",
       "    <tr>\n",
       "      <th>popularity</th>\n",
       "      <td>1157425.0</td>\n",
       "      <td>1.221146</td>\n",
       "      <td>7.519671e+00</td>\n",
       "      <td>0.0</td>\n",
       "      <td>0.6</td>\n",
       "      <td>0.6</td>\n",
       "      <td>0.874</td>\n",
       "      <td>2.994357e+03</td>\n",
       "    </tr>\n",
       "  </tbody>\n",
       "</table>\n",
       "</div>"
      ],
      "text/plain": [
       "                  count           mean           std   min       25%  \\\n",
       "id            1157425.0  752508.680656  4.019883e+05   2.0  417128.0   \n",
       "vote_average  1157425.0       1.850443  3.008217e+00   0.0       0.0   \n",
       "vote_count    1157425.0      18.532126  3.156474e+02   0.0       0.0   \n",
       "revenue       1157425.0  690134.044259  1.853782e+07 -12.0       0.0   \n",
       "runtime       1157425.0      47.456232  6.165602e+01 -28.0       0.0   \n",
       "budget        1157425.0  265713.816114  5.076877e+06   0.0       0.0   \n",
       "popularity    1157425.0       1.221146  7.519671e+00   0.0       0.6   \n",
       "\n",
       "                   50%          75%           max  \n",
       "id            758132.0  1110380.000  1.413208e+06  \n",
       "vote_average       0.0        4.600  1.000000e+01  \n",
       "vote_count         0.0        1.000  3.449500e+04  \n",
       "revenue            0.0        0.000  5.000000e+09  \n",
       "runtime           22.0       88.000  1.440000e+04  \n",
       "budget             0.0        0.000  1.000000e+09  \n",
       "popularity         0.6        0.874  2.994357e+03  "
      ]
     },
     "execution_count": 5,
     "metadata": {},
     "output_type": "execute_result"
    }
   ],
   "source": [
    "data.describe().T"
   ]
  },
  {
   "cell_type": "markdown",
   "metadata": {},
   "source": [
    "### Visualization"
   ]
  },
  {
   "cell_type": "markdown",
   "metadata": {},
   "source": [
    "#### Genre Distribution Visualization"
   ]
  },
  {
   "cell_type": "markdown",
   "metadata": {},
   "source": [
    "#### Revenue vs Budget Relationship"
   ]
  },
  {
   "cell_type": "markdown",
   "metadata": {},
   "source": [
    "#### Popularity Over Time"
   ]
  },
  {
   "cell_type": "markdown",
   "metadata": {},
   "source": [
    "## Handle Miss Values"
   ]
  },
  {
   "cell_type": "markdown",
   "metadata": {},
   "source": [
    "### Handle Missing Values in Genres"
   ]
  },
  {
   "cell_type": "code",
   "execution_count": 24,
   "metadata": {},
   "outputs": [],
   "source": [
    "data[\"genres\"] = data[\"genres\"].str.strip()\n",
    "data.loc[(data[\"genres\"] == \"\") | \n",
    "         (data[\"genres\"] == \"\\\\N\") | \n",
    "         (data[\"genres\"] == \"N/A\") | \n",
    "         (data[\"genres\"] == \"null\"), \"genres\"] = np.nan"
   ]
  },
  {
   "cell_type": "code",
   "execution_count": 7,
   "metadata": {},
   "outputs": [
    {
     "data": {
      "text/plain": [
       "np.int64(467769)"
      ]
     },
     "execution_count": 7,
     "metadata": {},
     "output_type": "execute_result"
    }
   ],
   "source": [
    "befor_missing = data[\"genres\"].isna().sum()\n",
    "befor_missing"
   ]
  },
  {
   "cell_type": "code",
   "execution_count": 8,
   "metadata": {},
   "outputs": [
    {
     "name": "stderr",
     "output_type": "stream",
     "text": [
      "C:\\Users\\osman\\AppData\\Local\\Temp\\ipykernel_9552\\114720902.py:1: DtypeWarning: Columns (4) have mixed types. Specify dtype option on import or set low_memory=False.\n",
      "  imdb_data = pd.read_csv(\"../data/raw/title.basics.tsv\", sep=\"\\t\")\n"
     ]
    }
   ],
   "source": [
    "imdb_data = pd.read_csv(\"../data/raw/title.basics.tsv\", sep=\"\\t\")"
   ]
  },
  {
   "cell_type": "code",
   "execution_count": 9,
   "metadata": {},
   "outputs": [
    {
     "name": "stdout",
     "output_type": "stream",
     "text": [
      "<class 'pandas.core.frame.DataFrame'>\n",
      "RangeIndex: 11348647 entries, 0 to 11348646\n",
      "Data columns (total 9 columns):\n",
      " #   Column          Dtype \n",
      "---  ------          ----- \n",
      " 0   tconst          object\n",
      " 1   titleType       object\n",
      " 2   primaryTitle    object\n",
      " 3   originalTitle   object\n",
      " 4   isAdult         object\n",
      " 5   startYear       object\n",
      " 6   endYear         object\n",
      " 7   runtimeMinutes  object\n",
      " 8   genres          object\n",
      "dtypes: object(9)\n",
      "memory usage: 779.2+ MB\n"
     ]
    }
   ],
   "source": [
    "imdb_data.info()"
   ]
  },
  {
   "cell_type": "code",
   "execution_count": 10,
   "metadata": {},
   "outputs": [],
   "source": [
    "# Step 1: Identify rows with missing genres but existing imdb_id\n",
    "missing_genres = data[(data[\"genres\"].isna()) & (data[\"imdb_id\"].notna())]\n",
    "\n",
    "# Step 2: Extract imdb_ids that need genre data\n",
    "imdb_ids_to_fill = missing_genres[\"imdb_id\"].tolist()\n",
    "\n",
    "# Step 3: Retrieve corresponding genres from imdb_data\n",
    "key = imdb_data[imdb_data[\"tconst\"].isin(imdb_ids_to_fill)][[\"tconst\", \"genres\"]]\n",
    "\n",
    "# Step 4: Merge eda.data with key on imdb_id and tconst\n",
    "merged_df = data.merge(key, left_on=\"imdb_id\", right_on=\"tconst\", how=\"left\")\n",
    "\n",
    "# Step 5: Fill missing genres in genres_y with genres_x\n",
    "merged_df[\"genres_y\"] = merged_df[\"genres_y\"].fillna(merged_df[\"genres_x\"])\n",
    "\n",
    "# Step 6: Update the original genres column with filled data\n",
    "data[\"genres\"] = merged_df[\"genres_y\"]"
   ]
  },
  {
   "cell_type": "code",
   "execution_count": 11,
   "metadata": {},
   "outputs": [
    {
     "data": {
      "text/plain": [
       "np.int64(315234)"
      ]
     },
     "execution_count": 11,
     "metadata": {},
     "output_type": "execute_result"
    }
   ],
   "source": [
    "after_missing = data[\"genres\"].isna().sum()\n",
    "after_missing"
   ]
  },
  {
   "cell_type": "code",
   "execution_count": 12,
   "metadata": {},
   "outputs": [
    {
     "data": {
      "text/plain": [
       "np.int64(152535)"
      ]
     },
     "execution_count": 12,
     "metadata": {},
     "output_type": "execute_result"
    }
   ],
   "source": [
    "befor_missing - after_missing # 152535 veri güvenilir bir kaynak olan imdb veri setinden dolduruldu"
   ]
  },
  {
   "cell_type": "code",
   "execution_count": 13,
   "metadata": {},
   "outputs": [],
   "source": [
    "copy_data = data.copy()"
   ]
  },
  {
   "cell_type": "code",
   "execution_count": 14,
   "metadata": {},
   "outputs": [],
   "source": [
    "def fill_missing_genres_with_supervised_learning(data):\n",
    "    # Handle missing values\n",
    "    data['title'] = data['title'].fillna('')\n",
    "    data['overview'] = data['overview'].fillna('')\n",
    "    data['tagline'] = data['tagline'].fillna('')\n",
    "    data['combined_features'] = data['title'] + ' ' + data['overview'] + ' ' + data['tagline']\n",
    "    \n",
    "    # Split data into records with known and missing genres\n",
    "    missing_genres = data[data['genres'].isna()]\n",
    "    known_genres = data[~data['genres'].isna()]\n",
    "    \n",
    "    # Ensure 'genres' column is of string type, convert NaN to empty strings\n",
    "    known_genres['genres'] = known_genres['genres'].astype(str)\n",
    "    \n",
    "    # Split by comma and strip whitespace, remove empty strings\n",
    "    known_genres['genres'] = known_genres['genres'].apply(\n",
    "        lambda x: [genre.strip() for genre in x.split(',') if genre.strip()]\n",
    "    )\n",
    "    \n",
    "    # Encode genres using MultiLabelBinarizer\n",
    "    from sklearn.preprocessing import MultiLabelBinarizer\n",
    "    mlb = MultiLabelBinarizer()\n",
    "    genre_matrix = mlb.fit_transform(known_genres['genres'])\n",
    "    \n",
    "    # Split known_genres into train and validation sets\n",
    "    from sklearn.model_selection import train_test_split\n",
    "    X_train_text, X_val_text, y_train, y_val = train_test_split(\n",
    "        known_genres['combined_features'],\n",
    "        genre_matrix,\n",
    "        test_size=0.2,\n",
    "        random_state=42\n",
    "    )\n",
    "    \n",
    "    # Define the pipeline\n",
    "    from sklearn.pipeline import Pipeline\n",
    "    from sklearn.feature_extraction.text import TfidfVectorizer\n",
    "    from sklearn.decomposition import TruncatedSVD\n",
    "    from sklearn.multioutput import MultiOutputClassifier\n",
    "    from sklearn.linear_model import LogisticRegression\n",
    "    \n",
    "    pipeline = Pipeline([\n",
    "        ('tfidf', TfidfVectorizer(max_features=5000, ngram_range=(1, 1))),\n",
    "        ('svd', TruncatedSVD(n_components=50)),\n",
    "        ('clf', MultiOutputClassifier(LogisticRegression(max_iter=1000, solver='lbfgs', C=1.0)))\n",
    "    ])\n",
    "    \n",
    "    # Specify a more limited parameter grid\n",
    "    param_grid = {\n",
    "        'tfidf__max_features': [5000],\n",
    "        'tfidf__ngram_range': [(1, 1)],\n",
    "        'svd__n_components': [50],\n",
    "        'clf__estimator__C': [1.0],\n",
    "        'clf__estimator__penalty': ['l2'],\n",
    "        'clf__estimator__solver': ['lbfgs']\n",
    "    }\n",
    "    \n",
    "    # Perform Grid Search with fewer parameters\n",
    "    grid_search = GridSearchCV(pipeline, param_grid, cv=3, scoring='f1_macro', n_jobs=-1, verbose=1)\n",
    "    grid_search.fit(X_train_text, y_train)\n",
    "    \n",
    "    # Evaluate the best model\n",
    "    best_model = grid_search.best_estimator_\n",
    "    y_pred_val = best_model.predict(X_val_text)\n",
    "    print(classification_report(y_val, y_pred_val))\n",
    "    \n",
    "    # Prepare missing genres data\n",
    "    X_missing = best_model.named_steps['tfidf'].transform(missing_genres['combined_features'])\n",
    "    X_missing = best_model.named_steps['svd'].transform(X_missing)\n",
    "    y_pred_missing = best_model.named_steps['clf'].predict(X_missing)\n",
    "    \n",
    "    # Convert predictions back to genre labels\n",
    "    predicted_genres = mlb.inverse_transform(y_pred_missing)\n",
    "    \n",
    "    # Assign predicted genres back to the original dataset\n",
    "    data.loc[missing_genres.index, 'genres'] = [','.join(genres) for genres in predicted_genres]"
   ]
  },
  {
   "cell_type": "code",
   "execution_count": 21,
   "metadata": {},
   "outputs": [
    {
     "name": "stderr",
     "output_type": "stream",
     "text": [
      "C:\\Users\\osman\\AppData\\Local\\Temp\\ipykernel_9552\\2948129426.py:13: SettingWithCopyWarning: \n",
      "A value is trying to be set on a copy of a slice from a DataFrame.\n",
      "Try using .loc[row_indexer,col_indexer] = value instead\n",
      "\n",
      "See the caveats in the documentation: https://pandas.pydata.org/pandas-docs/stable/user_guide/indexing.html#returning-a-view-versus-a-copy\n",
      "  known_genres['genres'] = known_genres['genres'].astype(str)\n",
      "C:\\Users\\osman\\AppData\\Local\\Temp\\ipykernel_9552\\2948129426.py:16: SettingWithCopyWarning: \n",
      "A value is trying to be set on a copy of a slice from a DataFrame.\n",
      "Try using .loc[row_indexer,col_indexer] = value instead\n",
      "\n",
      "See the caveats in the documentation: https://pandas.pydata.org/pandas-docs/stable/user_guide/indexing.html#returning-a-view-versus-a-copy\n",
      "  known_genres['genres'] = known_genres['genres'].apply(\n"
     ]
    },
    {
     "name": "stdout",
     "output_type": "stream",
     "text": [
      "Fitting 3 folds for each of 1 candidates, totalling 3 fits\n"
     ]
    },
    {
     "name": "stderr",
     "output_type": "stream",
     "text": [
      "c:\\Users\\osman\\.conda\\envs\\DataScience\\Lib\\site-packages\\sklearn\\metrics\\_classification.py:1531: UndefinedMetricWarning: Precision is ill-defined and being set to 0.0 in labels with no predicted samples. Use `zero_division` parameter to control this behavior.\n",
      "  _warn_prf(average, modifier, f\"{metric.capitalize()} is\", len(result))\n",
      "c:\\Users\\osman\\.conda\\envs\\DataScience\\Lib\\site-packages\\sklearn\\metrics\\_classification.py:1531: UndefinedMetricWarning: Recall is ill-defined and being set to 0.0 in labels with no true samples. Use `zero_division` parameter to control this behavior.\n",
      "  _warn_prf(average, modifier, f\"{metric.capitalize()} is\", len(result))\n",
      "c:\\Users\\osman\\.conda\\envs\\DataScience\\Lib\\site-packages\\sklearn\\metrics\\_classification.py:1531: UndefinedMetricWarning: F-score is ill-defined and being set to 0.0 in labels with no true nor predicted samples. Use `zero_division` parameter to control this behavior.\n",
      "  _warn_prf(average, modifier, f\"{metric.capitalize()} is\", len(result))\n",
      "c:\\Users\\osman\\.conda\\envs\\DataScience\\Lib\\site-packages\\sklearn\\metrics\\_classification.py:1531: UndefinedMetricWarning: Precision is ill-defined and being set to 0.0 in samples with no predicted labels. Use `zero_division` parameter to control this behavior.\n",
      "  _warn_prf(average, modifier, f\"{metric.capitalize()} is\", len(result))\n"
     ]
    },
    {
     "name": "stdout",
     "output_type": "stream",
     "text": [
      "              precision    recall  f1-score   support\n",
      "\n",
      "           0       0.83      0.00      0.00     10527\n",
      "           1       0.86      0.54      0.66      6556\n",
      "           2       1.00      0.00      0.00      5581\n",
      "           3       0.61      0.02      0.05     12713\n",
      "           4       0.00      0.00      0.00       603\n",
      "           5       0.53      0.03      0.05     33263\n",
      "           6       0.43      0.00      0.00      7549\n",
      "           7       0.76      0.54      0.63     45614\n",
      "           8       0.62      0.36      0.46     58111\n",
      "           9       0.37      0.00      0.00      6424\n",
      "          10       0.00      0.00      0.00      5366\n",
      "          11       0.00      0.00      0.00         0\n",
      "          12       0.00      0.00      0.00         8\n",
      "          13       0.28      0.00      0.01      3845\n",
      "          14       0.43      0.01      0.01     12158\n",
      "          15       0.84      0.30      0.45     12281\n",
      "          16       0.00      0.00      0.00       420\n",
      "          17       0.00      0.00      0.00      4558\n",
      "          18       0.00      0.00      0.00       102\n",
      "          19       0.00      0.00      0.00        32\n",
      "          20       0.56      0.08      0.14     12714\n",
      "          21       0.00      0.00      0.00       516\n",
      "          22       0.42      0.00      0.00      4244\n",
      "          23       0.59      0.01      0.03      9956\n",
      "          24       0.00      0.00      0.00       418\n",
      "          25       0.00      0.00      0.00      4797\n",
      "          26       0.00      0.00      0.00        24\n",
      "          27       0.19      0.00      0.00     10548\n",
      "          28       0.36      0.01      0.01      2313\n",
      "          29       0.00      0.00      0.00      1961\n",
      "          30       0.00      0.00      0.00        35\n",
      "\n",
      "   micro avg       0.70      0.20      0.32    273237\n",
      "   macro avg       0.31      0.06      0.08    273237\n",
      "weighted avg       0.57      0.20      0.26    273237\n",
      " samples avg       0.29      0.26      0.27    273237\n",
      "\n"
     ]
    }
   ],
   "source": [
    "fill_missing_genres_with_supervised_learning(data)"
   ]
  },
  {
   "cell_type": "code",
   "execution_count": 25,
   "metadata": {},
   "outputs": [
    {
     "data": {
      "text/plain": [
       "np.int64(218400)"
      ]
     },
     "execution_count": 25,
     "metadata": {},
     "output_type": "execute_result"
    }
   ],
   "source": [
    "data[\"genres\"].isna().sum()"
   ]
  },
  {
   "cell_type": "code",
   "execution_count": 23,
   "metadata": {},
   "outputs": [
    {
     "data": {
      "text/plain": [
       "genres\n",
       "                          218400\n",
       "Documentary               194697\n",
       "Drama                     143738\n",
       "Comedy                     68614\n",
       "Adult                      41750\n",
       "Music                      33847\n",
       "Animation                  32821\n",
       "Horror                     24269\n",
       "Short                      12843\n",
       "Drama, Romance             10709\n",
       "Drama,Short                10471\n",
       "Action                     10230\n",
       "Comedy, Drama               9590\n",
       "Romance                     9003\n",
       "Thriller                    8766\n",
       "Drama, Comedy               6272\n",
       "Documentary,Short           6072\n",
       "Comedy, Romance             5542\n",
       "Documentary, Music          5516\n",
       "Western                     4919\n",
       "Comedy,Short                4889\n",
       "Crime                       4601\n",
       "Romance, Drama              4342\n",
       "Family                      4123\n",
       "Drama, Thriller             3880\n",
       "Drama, TV Movie             3628\n",
       "Science Fiction             3619\n",
       "Horror, Thriller            3558\n",
       "Crime, Drama                3355\n",
       "Fantasy                     3201\n",
       "Music, Documentary          3046\n",
       "Documentary, History        3024\n",
       "Action, Drama               2886\n",
       "Drama,Romance               2814\n",
       "Animation, Comedy           2763\n",
       "Drama, History              2749\n",
       "Drama, Crime                2589\n",
       "Drama, Family               2576\n",
       "Romance, Comedy             2562\n",
       "Adventure                   2438\n",
       "Horror, Comedy              2367\n",
       "Animation, Family           2362\n",
       "Comedy, Horror              2273\n",
       "Mystery                     2240\n",
       "Animation,Short             2196\n",
       "Documentary, TV Movie       2174\n",
       "Comedy,Drama                2097\n",
       "Comedy, Drama, Romance      1828\n",
       "Comedy, Music               1796\n",
       "Drama, War                  1704\n",
       "Thriller, Drama             1703\n",
       "Horror,Short                1640\n",
       "Action, Comedy              1596\n",
       "Documentary, Drama          1575\n",
       "Action, Thriller            1573\n",
       "Drama, Music                1423\n",
       "Documentary,Music           1422\n",
       "Comedy, Crime               1418\n",
       "Name: count, dtype: int64"
      ]
     },
     "execution_count": 23,
     "metadata": {},
     "output_type": "execute_result"
    }
   ],
   "source": [
    "data.genres.value_counts()[:58]"
   ]
  },
  {
   "cell_type": "markdown",
   "metadata": {},
   "source": [
    "#### Filling Missing Genres by Imdb Dataset"
   ]
  },
  {
   "cell_type": "markdown",
   "metadata": {},
   "source": [
    "### other"
   ]
  },
  {
   "cell_type": "markdown",
   "metadata": {},
   "source": [
    "## Handle Outliers"
   ]
  },
  {
   "cell_type": "markdown",
   "metadata": {},
   "source": []
  }
 ],
 "metadata": {
  "kernelspec": {
   "display_name": "DataScience",
   "language": "python",
   "name": "python3"
  },
  "language_info": {
   "codemirror_mode": {
    "name": "ipython",
    "version": 3
   },
   "file_extension": ".py",
   "mimetype": "text/x-python",
   "name": "python",
   "nbconvert_exporter": "python",
   "pygments_lexer": "ipython3",
   "version": "3.11.9"
  }
 },
 "nbformat": 4,
 "nbformat_minor": 2
}
