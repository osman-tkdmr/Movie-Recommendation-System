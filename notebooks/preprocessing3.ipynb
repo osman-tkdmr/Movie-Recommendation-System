{
 "cells": [
  {
   "cell_type": "code",
   "execution_count": 154,
   "metadata": {},
   "outputs": [],
   "source": [
    "import os\n",
    "import shutil\n",
    "from kagglehub import dataset_download\n",
    "import pandas as pd\n",
    "import numpy as np"
   ]
  },
  {
   "cell_type": "code",
   "execution_count": 155,
   "metadata": {},
   "outputs": [
    {
     "name": "stdout",
     "output_type": "stream",
     "text": [
      "Moved all files from C:\\Users\\osman\\.cache\\kagglehub\\datasets\\asaniczka\\tmdb-movies-dataset-2023-930k-movies\\versions\\444 to ../data/raw/\n"
     ]
    }
   ],
   "source": [
    "# List of dataset paths on Kaggle\n",
    "paths = [\n",
    "    \"asaniczka/tmdb-movies-dataset-2023-930k-movies\"\n",
    "]\n",
    "\n",
    "# Destination path where datasets will be stored\n",
    "destination_path = \"../data/raw/\"\n",
    "\n",
    "# Ensure the destination directory exists\n",
    "os.makedirs(destination_path, exist_ok=True)\n",
    "\n",
    "for path in paths:\n",
    "    # Download the dataset\n",
    "    source = dataset_download(path)\n",
    "    \n",
    "    # Move files or directories to the destination\n",
    "    if os.path.isdir(source):\n",
    "        # Move all files in the directory\n",
    "        for filename in os.listdir(source):\n",
    "            file_path = os.path.join(source, filename)\n",
    "            dest_file_path = os.path.join(destination_path, filename)\n",
    "            # Overwrite if file exists\n",
    "            if os.path.exists(dest_file_path):\n",
    "                os.remove(dest_file_path)\n",
    "            shutil.move(file_path, destination_path)\n",
    "        print(f\"Moved all files from {source} to {destination_path}\")\n",
    "    else:\n",
    "        # Move a single file\n",
    "        dest_file_path = os.path.join(destination_path, os.path.basename(source))\n",
    "        # Overwrite if file exists\n",
    "        if os.path.exists(dest_file_path):\n",
    "            os.remove(dest_file_path)\n",
    "        shutil.move(source, destination_path)\n",
    "        print(f\"Moved {source} to {destination_path}\")"
   ]
  },
  {
   "cell_type": "code",
   "execution_count": 156,
   "metadata": {},
   "outputs": [],
   "source": [
    "'''\n",
    "tmdb_data = pd.read_csv(\"../data/raw/TMDB_movie_dataset_v11.csv\")\n",
    "\n",
    "imdb_data = pd.read_csv(\"../data/raw/title.basics.tsv\", sep=\"\\t\", low_memory= False)\n",
    "'''\n",
    "imdb_rating = pd.read_csv(\"../data/raw/title.ratings.tsv\", sep=\"\\t\")"
   ]
  },
  {
   "cell_type": "code",
   "execution_count": 157,
   "metadata": {},
   "outputs": [
    {
     "data": {
      "text/plain": [
       "'\\ncpy_tmdb_data = tmdb_data.copy()\\ncpy_imdb_data = imdb_data.copy()\\n'"
      ]
     },
     "execution_count": 157,
     "metadata": {},
     "output_type": "execute_result"
    }
   ],
   "source": [
    "'''\n",
    "cpy_tmdb_data = tmdb_data.copy()\n",
    "cpy_imdb_data = imdb_data.copy()\n",
    "'''"
   ]
  },
  {
   "cell_type": "code",
   "execution_count": 158,
   "metadata": {},
   "outputs": [],
   "source": [
    "tmdb_data = cpy_tmdb_data\n",
    "imdb_data = cpy_imdb_data"
   ]
  },
  {
   "cell_type": "code",
   "execution_count": 159,
   "metadata": {},
   "outputs": [
    {
     "data": {
      "text/html": [
       "<div>\n",
       "<style scoped>\n",
       "    .dataframe tbody tr th:only-of-type {\n",
       "        vertical-align: middle;\n",
       "    }\n",
       "\n",
       "    .dataframe tbody tr th {\n",
       "        vertical-align: top;\n",
       "    }\n",
       "\n",
       "    .dataframe thead th {\n",
       "        text-align: right;\n",
       "    }\n",
       "</style>\n",
       "<table border=\"1\" class=\"dataframe\">\n",
       "  <thead>\n",
       "    <tr style=\"text-align: right;\">\n",
       "      <th></th>\n",
       "      <th>id</th>\n",
       "      <th>title</th>\n",
       "      <th>vote_average</th>\n",
       "      <th>vote_count</th>\n",
       "      <th>status</th>\n",
       "      <th>release_date</th>\n",
       "      <th>revenue</th>\n",
       "      <th>runtime</th>\n",
       "      <th>adult</th>\n",
       "      <th>backdrop_path</th>\n",
       "      <th>...</th>\n",
       "      <th>original_title</th>\n",
       "      <th>overview</th>\n",
       "      <th>popularity</th>\n",
       "      <th>poster_path</th>\n",
       "      <th>tagline</th>\n",
       "      <th>genres</th>\n",
       "      <th>production_companies</th>\n",
       "      <th>production_countries</th>\n",
       "      <th>spoken_languages</th>\n",
       "      <th>keywords</th>\n",
       "    </tr>\n",
       "  </thead>\n",
       "  <tbody>\n",
       "    <tr>\n",
       "      <th>272907</th>\n",
       "      <td>1199231</td>\n",
       "      <td>Werewolf By Night In Color</td>\n",
       "      <td>8.0</td>\n",
       "      <td>1</td>\n",
       "      <td>Released</td>\n",
       "      <td>2023-10-20</td>\n",
       "      <td>0</td>\n",
       "      <td>0</td>\n",
       "      <td>False</td>\n",
       "      <td>NaN</td>\n",
       "      <td>...</td>\n",
       "      <td>Werewolf By Night In Color</td>\n",
       "      <td>NaN</td>\n",
       "      <td>0.0</td>\n",
       "      <td>/6xjL2AxQ9KaLGxyDfSGr9bSWRkF.jpg</td>\n",
       "      <td>NaN</td>\n",
       "      <td>Action, Horror, Fantasy</td>\n",
       "      <td>Marvel Studios, Kevin Feige Productions</td>\n",
       "      <td>United States of America</td>\n",
       "      <td>English</td>\n",
       "      <td>NaN</td>\n",
       "    </tr>\n",
       "  </tbody>\n",
       "</table>\n",
       "<p>1 rows × 24 columns</p>\n",
       "</div>"
      ],
      "text/plain": [
       "             id                       title  vote_average  vote_count  \\\n",
       "272907  1199231  Werewolf By Night In Color           8.0           1   \n",
       "\n",
       "          status release_date  revenue  runtime  adult backdrop_path  ...  \\\n",
       "272907  Released   2023-10-20        0        0  False           NaN  ...   \n",
       "\n",
       "                    original_title overview popularity  \\\n",
       "272907  Werewolf By Night In Color      NaN        0.0   \n",
       "\n",
       "                             poster_path tagline                   genres  \\\n",
       "272907  /6xjL2AxQ9KaLGxyDfSGr9bSWRkF.jpg     NaN  Action, Horror, Fantasy   \n",
       "\n",
       "                           production_companies      production_countries  \\\n",
       "272907  Marvel Studios, Kevin Feige Productions  United States of America   \n",
       "\n",
       "       spoken_languages keywords  \n",
       "272907          English      NaN  \n",
       "\n",
       "[1 rows x 24 columns]"
      ]
     },
     "execution_count": 159,
     "metadata": {},
     "output_type": "execute_result"
    }
   ],
   "source": [
    "tmdb_data.sample()"
   ]
  },
  {
   "cell_type": "code",
   "execution_count": 160,
   "metadata": {},
   "outputs": [],
   "source": [
    "tmdb_data.replace({\"\\\\N\": np.nan, \"\": np.nan}, inplace=True)"
   ]
  },
  {
   "cell_type": "code",
   "execution_count": 161,
   "metadata": {},
   "outputs": [
    {
     "name": "stdout",
     "output_type": "stream",
     "text": [
      "<class 'pandas.core.frame.DataFrame'>\n",
      "RangeIndex: 1157425 entries, 0 to 1157424\n",
      "Data columns (total 24 columns):\n",
      " #   Column                Non-Null Count    Dtype  \n",
      "---  ------                --------------    -----  \n",
      " 0   id                    1157425 non-null  int64  \n",
      " 1   title                 1157412 non-null  object \n",
      " 2   vote_average          1157425 non-null  float64\n",
      " 3   vote_count            1157425 non-null  int64  \n",
      " 4   status                1157425 non-null  object \n",
      " 5   release_date          961571 non-null   object \n",
      " 6   revenue               1157425 non-null  int64  \n",
      " 7   runtime               1157425 non-null  int64  \n",
      " 8   adult                 1157425 non-null  bool   \n",
      " 9   backdrop_path         305480 non-null   object \n",
      " 10  budget                1157425 non-null  int64  \n",
      " 11  homepage              122170 non-null   object \n",
      " 12  imdb_id               607691 non-null   object \n",
      " 13  original_language     1157425 non-null  object \n",
      " 14  original_title        1157412 non-null  object \n",
      " 15  overview              919734 non-null   object \n",
      " 16  popularity            1157425 non-null  float64\n",
      " 17  poster_path           787986 non-null   object \n",
      " 18  tagline               162242 non-null   object \n",
      " 19  genres                689656 non-null   object \n",
      " 20  production_companies  520263 non-null   object \n",
      " 21  production_countries  640433 non-null   object \n",
      " 22  spoken_languages      660302 non-null   object \n",
      " 23  keywords              311280 non-null   object \n",
      "dtypes: bool(1), float64(2), int64(5), object(16)\n",
      "memory usage: 204.2+ MB\n"
     ]
    }
   ],
   "source": [
    "tmdb_data.info()"
   ]
  },
  {
   "cell_type": "code",
   "execution_count": 162,
   "metadata": {},
   "outputs": [
    {
     "data": {
      "text/html": [
       "<div>\n",
       "<style scoped>\n",
       "    .dataframe tbody tr th:only-of-type {\n",
       "        vertical-align: middle;\n",
       "    }\n",
       "\n",
       "    .dataframe tbody tr th {\n",
       "        vertical-align: top;\n",
       "    }\n",
       "\n",
       "    .dataframe thead th {\n",
       "        text-align: right;\n",
       "    }\n",
       "</style>\n",
       "<table border=\"1\" class=\"dataframe\">\n",
       "  <thead>\n",
       "    <tr style=\"text-align: right;\">\n",
       "      <th></th>\n",
       "      <th>tconst</th>\n",
       "      <th>titleType</th>\n",
       "      <th>primaryTitle</th>\n",
       "      <th>originalTitle</th>\n",
       "      <th>isAdult</th>\n",
       "      <th>startYear</th>\n",
       "      <th>endYear</th>\n",
       "      <th>runtimeMinutes</th>\n",
       "      <th>genres</th>\n",
       "      <th>imdb_averageRating</th>\n",
       "      <th>imdb_numVotes</th>\n",
       "    </tr>\n",
       "  </thead>\n",
       "  <tbody>\n",
       "    <tr>\n",
       "      <th>6889934</th>\n",
       "      <td>tt28625325</td>\n",
       "      <td>tvEpisode</td>\n",
       "      <td>Episode #1.508</td>\n",
       "      <td>Episode #1.508</td>\n",
       "      <td>0</td>\n",
       "      <td>2023</td>\n",
       "      <td>NaN</td>\n",
       "      <td>NaN</td>\n",
       "      <td>Drama</td>\n",
       "      <td>0.0</td>\n",
       "      <td>0.0</td>\n",
       "    </tr>\n",
       "  </tbody>\n",
       "</table>\n",
       "</div>"
      ],
      "text/plain": [
       "             tconst  titleType    primaryTitle   originalTitle isAdult  \\\n",
       "6889934  tt28625325  tvEpisode  Episode #1.508  Episode #1.508       0   \n",
       "\n",
       "        startYear endYear runtimeMinutes genres  imdb_averageRating  \\\n",
       "6889934      2023     NaN            NaN  Drama                 0.0   \n",
       "\n",
       "         imdb_numVotes  \n",
       "6889934            0.0  "
      ]
     },
     "execution_count": 162,
     "metadata": {},
     "output_type": "execute_result"
    }
   ],
   "source": [
    "imdb_data.sample()"
   ]
  },
  {
   "cell_type": "code",
   "execution_count": 163,
   "metadata": {},
   "outputs": [],
   "source": [
    "imdb_data.replace({\"\\\\N\": np.nan, \"\": np.nan}, inplace=True)"
   ]
  },
  {
   "cell_type": "code",
   "execution_count": 164,
   "metadata": {},
   "outputs": [
    {
     "name": "stdout",
     "output_type": "stream",
     "text": [
      "<class 'pandas.core.frame.DataFrame'>\n",
      "RangeIndex: 11348647 entries, 0 to 11348646\n",
      "Data columns (total 11 columns):\n",
      " #   Column              Dtype  \n",
      "---  ------              -----  \n",
      " 0   tconst              object \n",
      " 1   titleType           object \n",
      " 2   primaryTitle        object \n",
      " 3   originalTitle       object \n",
      " 4   isAdult             object \n",
      " 5   startYear           object \n",
      " 6   endYear             object \n",
      " 7   runtimeMinutes      object \n",
      " 8   genres              object \n",
      " 9   imdb_averageRating  float64\n",
      " 10  imdb_numVotes       float64\n",
      "dtypes: float64(2), object(9)\n",
      "memory usage: 952.4+ MB\n"
     ]
    }
   ],
   "source": [
    "imdb_data.info()"
   ]
  },
  {
   "cell_type": "code",
   "execution_count": 165,
   "metadata": {},
   "outputs": [
    {
     "name": "stdout",
     "output_type": "stream",
     "text": [
      "<class 'pandas.core.frame.DataFrame'>\n",
      "RangeIndex: 1519067 entries, 0 to 1519066\n",
      "Data columns (total 3 columns):\n",
      " #   Column         Non-Null Count    Dtype  \n",
      "---  ------         --------------    -----  \n",
      " 0   tconst         1519067 non-null  object \n",
      " 1   averageRating  1519067 non-null  float64\n",
      " 2   numVotes       1519067 non-null  int64  \n",
      "dtypes: float64(1), int64(1), object(1)\n",
      "memory usage: 34.8+ MB\n"
     ]
    }
   ],
   "source": [
    "imdb_rating.info()"
   ]
  },
  {
   "cell_type": "markdown",
   "metadata": {},
   "source": [
    "### Merge"
   ]
  },
  {
   "cell_type": "code",
   "execution_count": 166,
   "metadata": {},
   "outputs": [],
   "source": [
    "imdb_data.loc[imdb_data[\"tconst\"].isin(imdb_rating[\"tconst\"]), \"imdb_averageRating\"] = imdb_rating[\"averageRating\"]\n",
    "imdb_data.loc[imdb_data[\"tconst\"].isin(imdb_rating[\"tconst\"]), \"imdb_numVotes\"] = imdb_rating[\"numVotes\"]"
   ]
  },
  {
   "cell_type": "code",
   "execution_count": 167,
   "metadata": {},
   "outputs": [],
   "source": [
    "imdb_data.loc[imdb_data[\"imdb_numVotes\"].isna(), \"imdb_numVotes\"] = 0\n",
    "imdb_data.loc[imdb_data[\"imdb_averageRating\"].isna(), \"imdb_averageRating\"] = 0"
   ]
  },
  {
   "cell_type": "code",
   "execution_count": 168,
   "metadata": {},
   "outputs": [],
   "source": [
    "merged_df = tmdb_data.merge(imdb_data, \n",
    "                          left_on='imdb_id', \n",
    "                          right_on='tconst', \n",
    "                          how='left', \n",
    "                          suffixes=('_tmdb', '_imdb'))\n",
    "\n"
   ]
  },
  {
   "cell_type": "code",
   "execution_count": 169,
   "metadata": {},
   "outputs": [
    {
     "name": "stdout",
     "output_type": "stream",
     "text": [
      "<class 'pandas.core.frame.DataFrame'>\n",
      "RangeIndex: 1157425 entries, 0 to 1157424\n",
      "Data columns (total 35 columns):\n",
      " #   Column                Non-Null Count    Dtype  \n",
      "---  ------                --------------    -----  \n",
      " 0   id                    1157425 non-null  int64  \n",
      " 1   title                 1157412 non-null  object \n",
      " 2   vote_average          1157425 non-null  float64\n",
      " 3   vote_count            1157425 non-null  int64  \n",
      " 4   status                1157425 non-null  object \n",
      " 5   release_date          961571 non-null   object \n",
      " 6   revenue               1157425 non-null  int64  \n",
      " 7   runtime               1157425 non-null  int64  \n",
      " 8   adult                 1157425 non-null  bool   \n",
      " 9   backdrop_path         305480 non-null   object \n",
      " 10  budget                1157425 non-null  int64  \n",
      " 11  homepage              122170 non-null   object \n",
      " 12  imdb_id               607691 non-null   object \n",
      " 13  original_language     1157425 non-null  object \n",
      " 14  original_title        1157412 non-null  object \n",
      " 15  overview              919734 non-null   object \n",
      " 16  popularity            1157425 non-null  float64\n",
      " 17  poster_path           787986 non-null   object \n",
      " 18  tagline               162242 non-null   object \n",
      " 19  genres_tmdb           689656 non-null   object \n",
      " 20  production_companies  520263 non-null   object \n",
      " 21  production_countries  640433 non-null   object \n",
      " 22  spoken_languages      660302 non-null   object \n",
      " 23  keywords              311280 non-null   object \n",
      " 24  tconst                605508 non-null   object \n",
      " 25  titleType             605508 non-null   object \n",
      " 26  primaryTitle          605508 non-null   object \n",
      " 27  originalTitle         605508 non-null   object \n",
      " 28  isAdult               605508 non-null   object \n",
      " 29  startYear             596980 non-null   object \n",
      " 30  endYear               1950 non-null     object \n",
      " 31  runtimeMinutes        519146 non-null   object \n",
      " 32  genres_imdb           584667 non-null   object \n",
      " 33  imdb_averageRating    605508 non-null   float64\n",
      " 34  imdb_numVotes         605508 non-null   float64\n",
      "dtypes: bool(1), float64(4), int64(5), object(25)\n",
      "memory usage: 301.3+ MB\n"
     ]
    }
   ],
   "source": [
    "merged_df.info()"
   ]
  },
  {
   "cell_type": "code",
   "execution_count": 170,
   "metadata": {},
   "outputs": [
    {
     "data": {
      "text/plain": [
       "np.int64(467769)"
      ]
     },
     "execution_count": 170,
     "metadata": {},
     "output_type": "execute_result"
    }
   ],
   "source": [
    "merged_df[\"genres_tmdb\"].isna().sum()"
   ]
  },
  {
   "cell_type": "code",
   "execution_count": 171,
   "metadata": {},
   "outputs": [],
   "source": [
    "merged_df[\"genres_tmdb\"] = merged_df[\"genres_tmdb\"].fillna(merged_df[\"genres_imdb\"])"
   ]
  },
  {
   "cell_type": "code",
   "execution_count": 172,
   "metadata": {},
   "outputs": [
    {
     "data": {
      "text/plain": [
       "np.int64(325266)"
      ]
     },
     "execution_count": 172,
     "metadata": {},
     "output_type": "execute_result"
    }
   ],
   "source": [
    "merged_df[\"genres_tmdb\"].isna().sum()"
   ]
  },
  {
   "cell_type": "code",
   "execution_count": 173,
   "metadata": {},
   "outputs": [
    {
     "data": {
      "text/plain": [
       "np.int64(0)"
      ]
     },
     "execution_count": 173,
     "metadata": {},
     "output_type": "execute_result"
    }
   ],
   "source": [
    "merged_df[\"runtime\"].isna().sum()"
   ]
  },
  {
   "cell_type": "code",
   "execution_count": 174,
   "metadata": {},
   "outputs": [
    {
     "data": {
      "text/plain": [
       "np.int64(195854)"
      ]
     },
     "execution_count": 174,
     "metadata": {},
     "output_type": "execute_result"
    }
   ],
   "source": [
    "merged_df[\"release_date\"].isna().sum()"
   ]
  },
  {
   "cell_type": "code",
   "execution_count": 175,
   "metadata": {},
   "outputs": [],
   "source": [
    "merged_df.loc[merged_df[\"release_date\"].isna() & merged_df[\"startYear\"].notna(), \"release_date\"] = merged_df[\"startYear\"] + \"-01-01\""
   ]
  },
  {
   "cell_type": "code",
   "execution_count": 176,
   "metadata": {},
   "outputs": [
    {
     "data": {
      "text/plain": [
       "np.int64(154048)"
      ]
     },
     "execution_count": 176,
     "metadata": {},
     "output_type": "execute_result"
    }
   ],
   "source": [
    "merged_df[\"release_date\"].isna().sum()"
   ]
  },
  {
   "cell_type": "code",
   "execution_count": 179,
   "metadata": {},
   "outputs": [],
   "source": [
    "merged_df[\"release_date\"] = pd.to_datetime(merged_df['release_date'])"
   ]
  },
  {
   "cell_type": "code",
   "execution_count": 177,
   "metadata": {},
   "outputs": [],
   "source": [
    "merged_df.drop(axis=1, columns=[\"startYear\", \"endYear\", \"original_title\", \"backdrop_path\", \"runtimeMinutes\", \"genres_imdb\", \"spoken_languages\", \"homepage\", \"imdb_id\",\"tconst\",\"primaryTitle\", \"originalTitle\", \"isAdult\"], inplace=True)"
   ]
  },
  {
   "cell_type": "code",
   "execution_count": 190,
   "metadata": {},
   "outputs": [
    {
     "name": "stdout",
     "output_type": "stream",
     "text": [
      "<class 'pandas.core.frame.DataFrame'>\n",
      "Index: 668237 entries, 0 to 1157420\n",
      "Data columns (total 22 columns):\n",
      " #   Column                Non-Null Count   Dtype         \n",
      "---  ------                --------------   -----         \n",
      " 0   id                    668237 non-null  int64         \n",
      " 1   title                 668237 non-null  object        \n",
      " 2   vote_average          668237 non-null  float64       \n",
      " 3   vote_count            668237 non-null  int64         \n",
      " 4   status                668237 non-null  object        \n",
      " 5   release_date          668237 non-null  datetime64[ns]\n",
      " 6   revenue               668237 non-null  int64         \n",
      " 7   runtime               668237 non-null  int64         \n",
      " 8   adult                 668237 non-null  bool          \n",
      " 9   budget                668237 non-null  int64         \n",
      " 10  original_language     668237 non-null  object        \n",
      " 11  overview              668237 non-null  object        \n",
      " 12  popularity            668237 non-null  float64       \n",
      " 13  poster_path           521882 non-null  object        \n",
      " 14  tagline               131430 non-null  object        \n",
      " 15  genres_tmdb           668237 non-null  object        \n",
      " 16  production_companies  365834 non-null  object        \n",
      " 17  production_countries  458719 non-null  object        \n",
      " 18  keywords              237917 non-null  object        \n",
      " 19  titleType             514866 non-null  object        \n",
      " 20  imdb_averageRating    514866 non-null  float64       \n",
      " 21  imdb_numVotes         514866 non-null  float64       \n",
      "dtypes: bool(1), datetime64[ns](1), float64(4), int64(5), object(11)\n",
      "memory usage: 112.8+ MB\n"
     ]
    }
   ],
   "source": [
    "merged_df.info()"
   ]
  },
  {
   "cell_type": "code",
   "execution_count": 191,
   "metadata": {},
   "outputs": [
    {
     "data": {
      "text/plain": [
       "id                           0\n",
       "title                        0\n",
       "vote_average                 0\n",
       "vote_count                   0\n",
       "status                       0\n",
       "release_date                 0\n",
       "revenue                      0\n",
       "runtime                      0\n",
       "adult                        0\n",
       "budget                       0\n",
       "original_language            0\n",
       "overview                     0\n",
       "popularity                   0\n",
       "poster_path             146355\n",
       "tagline                 536807\n",
       "genres_tmdb                  0\n",
       "production_companies    302403\n",
       "production_countries    209518\n",
       "keywords                430320\n",
       "titleType               153371\n",
       "imdb_averageRating      153371\n",
       "imdb_numVotes           153371\n",
       "dtype: int64"
      ]
     },
     "execution_count": 191,
     "metadata": {},
     "output_type": "execute_result"
    }
   ],
   "source": [
    "merged_df.isna().sum()"
   ]
  },
  {
   "cell_type": "code",
   "execution_count": 192,
   "metadata": {},
   "outputs": [],
   "source": [
    "merged_df.dropna(subset=[\"overview\", \"title\", \"genres_tmdb\", \"release_date\"], inplace=True)"
   ]
  },
  {
   "cell_type": "code",
   "execution_count": 199,
   "metadata": {},
   "outputs": [],
   "source": [
    "merged_df[\"genres\"] = merged_df[\"genres_tmdb\"]\n",
    "merged_df.drop(axis=1,columns=[\"genres_tmdb\"], inplace=True)"
   ]
  },
  {
   "cell_type": "code",
   "execution_count": 201,
   "metadata": {},
   "outputs": [],
   "source": [
    "merged_df.to_csv(\"../data/processed/myData.csv\", index=False)"
   ]
  },
  {
   "cell_type": "code",
   "execution_count": null,
   "metadata": {},
   "outputs": [],
   "source": []
  }
 ],
 "metadata": {
  "kernelspec": {
   "display_name": "DataScience",
   "language": "python",
   "name": "python3"
  },
  "language_info": {
   "codemirror_mode": {
    "name": "ipython",
    "version": 3
   },
   "file_extension": ".py",
   "mimetype": "text/x-python",
   "name": "python",
   "nbconvert_exporter": "python",
   "pygments_lexer": "ipython3",
   "version": "3.11.9"
  }
 },
 "nbformat": 4,
 "nbformat_minor": 2
}
