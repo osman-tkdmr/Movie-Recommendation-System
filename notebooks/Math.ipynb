{
 "cells": [
  {
   "cell_type": "markdown",
   "metadata": {},
   "source": [
    "<span style=\"color:skyblue\">\n",
    "\n",
    "# TF-IDF (Term Frequency-Inverse Document Frequency) Vektörizasyonu\n",
    "</span>\n"
   ]
  },
  {
   "cell_type": "markdown",
   "metadata": {},
   "source": [
    "### Matematiksel Tanım"
   ]
  },
  {
   "cell_type": "markdown",
   "metadata": {},
   "source": [
    "\n",
    "TF-IDF, bir terimin bir belgedeki önemini hesaplamak için kullanılan bir sayısal istatistiktir. İki ana bileşenden oluşur:\n",
    "\n",
    "#### Terim Frekansı (TF)\n",
    "Bir terimin belge içindeki sıklığını ölçer:\n",
    "\n",
    "$$\n",
    "TF(t,d)=P(t∣d)\n",
    "$$\n",
    "\n",
    "#### Ters Belge Frekansı (IDF)\n",
    "Terimin tüm koleksiyon içindeki yayılmasını ölçer:\n",
    "\n",
    "$$\n",
    "IDF(t) = \\log_{2}\\left(\\frac{N}{DF(t)}\\right)\n",
    "$$\n",
    "\n",
    "Burada:\n",
    "-  $N$ toplam belge sayısı\n",
    "- $DF(t)$ terimin $t$ geçtiği belge sayısı\n",
    "\n",
    "#### TF-IDF Puanı\n",
    "\n",
    "Son TF-IDF puanı şu şekilde hesaplanır:\n",
    "\n",
    "$$\n",
    "TF-IDF(t,d) = TF(t,d) \\times IDF(t)\n",
    "$$\n"
   ]
  },
  {
   "cell_type": "markdown",
   "metadata": {},
   "source": [
    "\n",
    "### Öneri Sistemlerindeki Önemi"
   ]
  },
  {
   "cell_type": "markdown",
   "metadata": {},
   "source": [
    "\n",
    "TF-IDF vektörizasyonu:\n",
    "- Metinleri sayısal vektörlere dönüştürür\n",
    "- Nadir terimlere daha yüksek ağırlık verir\n",
    "- Yaygın terimlerin etkisini azaltır\n",
    "- Belge benzerliklerinin hesaplanmasına olanak sağlar\n"
   ]
  },
  {
   "cell_type": "markdown",
   "metadata": {},
   "source": [
    "<span style=\"color:skyblue\">\n",
    "\n",
    "# Kosinüs Benzerliği\n",
    "</span>"
   ]
  },
  {
   "cell_type": "markdown",
   "metadata": {},
   "source": [
    "### Matematiksel Tanım"
   ]
  },
  {
   "cell_type": "markdown",
   "metadata": {},
   "source": [
    "\n",
    "Kosinüs benzerliği, iki vektör arasındaki açının kosinüsünü hesaplayarak benzerliği ölçer:\n",
    "\n",
    "$$\n",
    "\\cos(\\theta) = \\frac{\\mathbf{A} \\cdot \\mathbf{B}}{\\|\\mathbf{A}\\| \\|\\mathbf{B}\\|}\n",
    "$$\n",
    "\n",
    "Burada:\n",
    "\n",
    "-  $A \\cdot B$  iki vektörün nokta çarpımı\n",
    "-  $||\\mathbf{A}||$  ve $||\\mathbf{B}||$ vektörlerin Öklid normları\n",
    "\n",
    "Açık forma:\n",
    "\n",
    "$$\n",
    "\\cos(\\theta) = \\frac{\\sum A_i \\times B_i}{\\sqrt{\\sum A_i^2} \\times \\sqrt{\\sum B_i^2}}\n",
    "$$\n"
   ]
  },
  {
   "cell_type": "markdown",
   "metadata": {},
   "source": [
    "### Öneri Sistemlerindeki Önemi"
   ]
  },
  {
   "cell_type": "markdown",
   "metadata": {},
   "source": [
    "\n",
    "Kosinüs benzerliği:\n",
    "- -1 ile 1 arasında normalize edilmiş bir benzerlik puanı üretir\n",
    "- Vektör uzunluklarından bağımsızdır\n",
    "- Seyrek (sparse) vektörler için etkilidir\n",
    "- Belge uzunluğundan etkilenmez\n",
    "<br><br>"
   ]
  },
  {
   "cell_type": "markdown",
   "metadata": {},
   "source": [
    "<span style=\"color:skyblue\">\n",
    "\n",
    "# TF-IDF ve Kosinüs Benzerliğinin Birlikte Kullanımı\n",
    "</span>"
   ]
  },
  {
   "cell_type": "markdown",
   "metadata": {},
   "source": [
    "\n",
    "Öneri sistemlerinde bu iki tekniğin birlikte kullanımı şu adımlarla gerçekleşir:\n",
    "\n",
    "1. Metin Vektörizasyonu:\n",
    "   ```python\n",
    "   vectorizer = TfidfVectorizer()\n",
    "   tfidf_matrix = vectorizer.fit_transform(documents)\n",
    "   ```\n",
    "\n",
    "2. Benzerlik Hesaplama:\n",
    "   ```python\n",
    "   similarities = cosine_similarity(tfidf_matrix)\n",
    "   ```\n"
   ]
  },
  {
   "cell_type": "markdown",
   "metadata": {},
   "source": [
    "\n",
    "#### Avantajları\n",
    "\n",
    "- Metin belgelerini etkili bir şekilde karşılaştırır\n",
    "- Yaygın kelimelerden kaynaklanan gürültüyü azaltır\n",
    "- Ölçeklenebilir ve verimli hesaplama sağlar\n",
    "- Dil bağımsız çalışır\n"
   ]
  },
  {
   "cell_type": "markdown",
   "metadata": {},
   "source": [
    "\n",
    "#### Kısıtlamalar\n",
    "\n",
    "- Kelimelerin anlamsal ilişkilerini yakalamaz\n",
    "- Kelime sırası bilgisini kaybeder\n",
    "- Eşanlamlı kelimeleri farklı özellikler olarak değerlendirir\n"
   ]
  },
  {
   "cell_type": "markdown",
   "metadata": {},
   "source": [
    "\n",
    "#### Örnek Hesaplama\n",
    "\n",
    "İki belge için basit bir örnek:\n",
    "\n",
    "**Belge 1:** \"öneri sistem makine öğrenme\"  \n",
    "**Belge 2:** \"öneri sistem derin öğrenme\"\n",
    "\n",
    "1. **TF-IDF Matrisi:**\n",
    "\n",
    "<center>\n",
    "\n",
    "|         | öneri | sistem | makine | öğrenme | derin   |\n",
    "|:-------:|:-----:|:------:|:------:|:-------:|:-------:|\n",
    "|Belge 1  | 0.4   | 0.4    | 0.5    | 0.4     | 0       |\n",
    "|Belge 2  | 0.4   | 0.4    | 0      | 0.4     | 0.5     |\n",
    "</center>\n",
    "\n",
    "<br>\n",
    "\n",
    "2. **Kosinüs Benzerliği:**\n",
    "\n",
    "$$\n",
    "\\cos(\\theta) = \\frac{(0.4 \\times 0.4) + (0.4 \\times 0.4) + (0.5 \\times 0) + (0.4 \\times 0.4) + (0 \\times 0.5)}{\\sqrt{(0.4^2 + 0.4^2 + 0.5^2 + 0.4^2 + 0^2)} \\times \\sqrt{(0.4^2 + 0.4^2 + 0^2 + 0.4^2 + 0.5^2)}} \\approx 0.78\n",
    "$$\n",
    "\n",
    "Bu sonuç, iki belgenin oldukça benzer olduğunu gösterir."
   ]
  }
 ],
 "metadata": {
  "language_info": {
   "name": "python"
  }
 },
 "nbformat": 4,
 "nbformat_minor": 2
}
